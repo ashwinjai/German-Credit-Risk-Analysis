{
 "cells": [
  {
   "cell_type": "code",
   "execution_count": 786,
   "id": "15dfed1b",
   "metadata": {},
   "outputs": [],
   "source": [
    "## Import all required libraries\n",
    "import os\n",
    "from datetime import datetime\n",
    "import datetime\n",
    "datetime.datetime.strptime\n",
    "import pandas as pd\n",
    "import numpy as np\n",
    "from scipy import stats\n",
    "import seaborn as sns\n",
    "import matplotlib.dates as mdates\n",
    "import glob\n",
    "import matplotlib.pyplot as plt\n",
    "from functools import reduce\n",
    "import warnings\n",
    "warnings.filterwarnings('ignore')\n",
    "import pandas as pd\n",
    "from scipy.stats import chi2_contingency\n",
    "import statsmodels.api as sm\n",
    "from statsmodels.discrete.discrete_model import Logit\n",
    "from statsmodels.tools.tools import add_constant\n",
    "from sklearn.linear_model import LogisticRegression\n",
    "from sklearn.metrics import accuracy_score\n",
    "from sklearn.linear_model import LogisticRegression\n",
    "from statsmodels.tools import add_constant\n",
    "from statsmodels.regression import linear_model\n",
    "from sklearn.metrics import roc_curve, auc, accuracy_score, precision_score, recall_score, f1_score, confusion_matrix\n",
    "from statsmodels.tools import add_constant\n",
    "from statsmodels.stats.outliers_influence import variance_inflation_factor\n",
    "from sklearn.metrics import roc_auc_score"
   ]
  },
  {
   "cell_type": "markdown",
   "id": "a383edcd",
   "metadata": {},
   "source": [
    "### 01. Scope Analysis: Exploration of Variables and Analysis of Redundancy"
   ]
  },
  {
   "cell_type": "code",
   "execution_count": 685,
   "id": "bdc35b7d",
   "metadata": {},
   "outputs": [],
   "source": [
    "##Changing the working directory\n",
    "os.chdir(r'D:\\Interview Prep\\Credit Risk Model\\German_dataset')"
   ]
  },
  {
   "cell_type": "code",
   "execution_count": 686,
   "id": "8a51ee67",
   "metadata": {},
   "outputs": [],
   "source": [
    "df_source = pd.read_excel(r'German_Bank_Raw.xlsx')"
   ]
  },
  {
   "cell_type": "code",
   "execution_count": 687,
   "id": "0c535b1e",
   "metadata": {},
   "outputs": [],
   "source": [
    "##Import dataset\n",
    "df = pd.read_excel(r'German_Bank_Raw.xlsx')"
   ]
  },
  {
   "cell_type": "code",
   "execution_count": 688,
   "id": "16dfc8d5",
   "metadata": {},
   "outputs": [
    {
     "data": {
      "text/html": [
       "<div>\n",
       "<style scoped>\n",
       "    .dataframe tbody tr th:only-of-type {\n",
       "        vertical-align: middle;\n",
       "    }\n",
       "\n",
       "    .dataframe tbody tr th {\n",
       "        vertical-align: top;\n",
       "    }\n",
       "\n",
       "    .dataframe thead th {\n",
       "        text-align: right;\n",
       "    }\n",
       "</style>\n",
       "<table border=\"1\" class=\"dataframe\">\n",
       "  <thead>\n",
       "    <tr style=\"text-align: right;\">\n",
       "      <th></th>\n",
       "      <th>OBS</th>\n",
       "      <th>CHK_ACCT</th>\n",
       "      <th>DURATION</th>\n",
       "      <th>HISTORY</th>\n",
       "      <th>NEW_CAR</th>\n",
       "      <th>USED_CAR</th>\n",
       "      <th>FURNITURE</th>\n",
       "      <th>RADIO_TV</th>\n",
       "      <th>EDUCATION</th>\n",
       "      <th>RETRAINING</th>\n",
       "      <th>...</th>\n",
       "      <th>AGE</th>\n",
       "      <th>OTHER_INSTALL</th>\n",
       "      <th>RENT</th>\n",
       "      <th>OWN_RES</th>\n",
       "      <th>NUM_CREDITS</th>\n",
       "      <th>JOB</th>\n",
       "      <th>NUM_DEPENDENTS</th>\n",
       "      <th>TELEPHONE</th>\n",
       "      <th>FOREIGN</th>\n",
       "      <th>RESPONSE</th>\n",
       "    </tr>\n",
       "  </thead>\n",
       "  <tbody>\n",
       "    <tr>\n",
       "      <th>0</th>\n",
       "      <td>1</td>\n",
       "      <td>0</td>\n",
       "      <td>6</td>\n",
       "      <td>4</td>\n",
       "      <td>0</td>\n",
       "      <td>0</td>\n",
       "      <td>0</td>\n",
       "      <td>1</td>\n",
       "      <td>0</td>\n",
       "      <td>0</td>\n",
       "      <td>...</td>\n",
       "      <td>67</td>\n",
       "      <td>0</td>\n",
       "      <td>0</td>\n",
       "      <td>1</td>\n",
       "      <td>2</td>\n",
       "      <td>2</td>\n",
       "      <td>1</td>\n",
       "      <td>1</td>\n",
       "      <td>0</td>\n",
       "      <td>1</td>\n",
       "    </tr>\n",
       "    <tr>\n",
       "      <th>1</th>\n",
       "      <td>2</td>\n",
       "      <td>1</td>\n",
       "      <td>48</td>\n",
       "      <td>2</td>\n",
       "      <td>0</td>\n",
       "      <td>0</td>\n",
       "      <td>0</td>\n",
       "      <td>1</td>\n",
       "      <td>0</td>\n",
       "      <td>0</td>\n",
       "      <td>...</td>\n",
       "      <td>22</td>\n",
       "      <td>0</td>\n",
       "      <td>0</td>\n",
       "      <td>1</td>\n",
       "      <td>1</td>\n",
       "      <td>2</td>\n",
       "      <td>1</td>\n",
       "      <td>0</td>\n",
       "      <td>0</td>\n",
       "      <td>0</td>\n",
       "    </tr>\n",
       "    <tr>\n",
       "      <th>2</th>\n",
       "      <td>3</td>\n",
       "      <td>3</td>\n",
       "      <td>12</td>\n",
       "      <td>4</td>\n",
       "      <td>0</td>\n",
       "      <td>0</td>\n",
       "      <td>0</td>\n",
       "      <td>0</td>\n",
       "      <td>1</td>\n",
       "      <td>0</td>\n",
       "      <td>...</td>\n",
       "      <td>49</td>\n",
       "      <td>0</td>\n",
       "      <td>0</td>\n",
       "      <td>1</td>\n",
       "      <td>1</td>\n",
       "      <td>1</td>\n",
       "      <td>2</td>\n",
       "      <td>0</td>\n",
       "      <td>0</td>\n",
       "      <td>1</td>\n",
       "    </tr>\n",
       "    <tr>\n",
       "      <th>3</th>\n",
       "      <td>4</td>\n",
       "      <td>0</td>\n",
       "      <td>42</td>\n",
       "      <td>2</td>\n",
       "      <td>0</td>\n",
       "      <td>0</td>\n",
       "      <td>1</td>\n",
       "      <td>0</td>\n",
       "      <td>0</td>\n",
       "      <td>0</td>\n",
       "      <td>...</td>\n",
       "      <td>45</td>\n",
       "      <td>0</td>\n",
       "      <td>0</td>\n",
       "      <td>0</td>\n",
       "      <td>1</td>\n",
       "      <td>2</td>\n",
       "      <td>2</td>\n",
       "      <td>0</td>\n",
       "      <td>0</td>\n",
       "      <td>1</td>\n",
       "    </tr>\n",
       "    <tr>\n",
       "      <th>4</th>\n",
       "      <td>5</td>\n",
       "      <td>0</td>\n",
       "      <td>24</td>\n",
       "      <td>3</td>\n",
       "      <td>1</td>\n",
       "      <td>0</td>\n",
       "      <td>0</td>\n",
       "      <td>0</td>\n",
       "      <td>0</td>\n",
       "      <td>0</td>\n",
       "      <td>...</td>\n",
       "      <td>53</td>\n",
       "      <td>0</td>\n",
       "      <td>0</td>\n",
       "      <td>0</td>\n",
       "      <td>2</td>\n",
       "      <td>2</td>\n",
       "      <td>2</td>\n",
       "      <td>0</td>\n",
       "      <td>0</td>\n",
       "      <td>0</td>\n",
       "    </tr>\n",
       "  </tbody>\n",
       "</table>\n",
       "<p>5 rows × 32 columns</p>\n",
       "</div>"
      ],
      "text/plain": [
       "   OBS  CHK_ACCT  DURATION  HISTORY  NEW_CAR  USED_CAR  FURNITURE  RADIO_TV  \\\n",
       "0    1         0         6        4        0         0          0         1   \n",
       "1    2         1        48        2        0         0          0         1   \n",
       "2    3         3        12        4        0         0          0         0   \n",
       "3    4         0        42        2        0         0          1         0   \n",
       "4    5         0        24        3        1         0          0         0   \n",
       "\n",
       "   EDUCATION  RETRAINING  ...  AGE  OTHER_INSTALL  RENT  OWN_RES  NUM_CREDITS  \\\n",
       "0          0           0  ...   67              0     0        1            2   \n",
       "1          0           0  ...   22              0     0        1            1   \n",
       "2          1           0  ...   49              0     0        1            1   \n",
       "3          0           0  ...   45              0     0        0            1   \n",
       "4          0           0  ...   53              0     0        0            2   \n",
       "\n",
       "   JOB  NUM_DEPENDENTS  TELEPHONE  FOREIGN  RESPONSE  \n",
       "0    2               1          1        0         1  \n",
       "1    2               1          0        0         0  \n",
       "2    1               2          0        0         1  \n",
       "3    2               2          0        0         1  \n",
       "4    2               2          0        0         0  \n",
       "\n",
       "[5 rows x 32 columns]"
      ]
     },
     "execution_count": 688,
     "metadata": {},
     "output_type": "execute_result"
    }
   ],
   "source": [
    "##Dataset Head\n",
    "df.head(5)"
   ]
  },
  {
   "cell_type": "code",
   "execution_count": 689,
   "id": "d7464d9d",
   "metadata": {},
   "outputs": [
    {
     "name": "stdout",
     "output_type": "stream",
     "text": [
      "<class 'pandas.core.frame.DataFrame'>\n",
      "RangeIndex: 1000 entries, 0 to 999\n",
      "Data columns (total 32 columns):\n",
      " #   Column            Non-Null Count  Dtype\n",
      "---  ------            --------------  -----\n",
      " 0   OBS               1000 non-null   int64\n",
      " 1   CHK_ACCT          1000 non-null   int64\n",
      " 2   DURATION          1000 non-null   int64\n",
      " 3   HISTORY           1000 non-null   int64\n",
      " 4   NEW_CAR           1000 non-null   int64\n",
      " 5   USED_CAR          1000 non-null   int64\n",
      " 6   FURNITURE         1000 non-null   int64\n",
      " 7   RADIO_TV          1000 non-null   int64\n",
      " 8   EDUCATION         1000 non-null   int64\n",
      " 9   RETRAINING        1000 non-null   int64\n",
      " 10  AMOUNT            1000 non-null   int64\n",
      " 11  SAV_ACCT          1000 non-null   int64\n",
      " 12  EMPLOYMENT        1000 non-null   int64\n",
      " 13  INSTALL_RATE      1000 non-null   int64\n",
      " 14  MALE_DIV          1000 non-null   int64\n",
      " 15  MALE_SINGLE       1000 non-null   int64\n",
      " 16  MALE_MAR_or_WID   1000 non-null   int64\n",
      " 17  CO_APPLICANT      1000 non-null   int64\n",
      " 18  GUARANTOR         1000 non-null   int64\n",
      " 19  PRESENT_RESIDENT  1000 non-null   int64\n",
      " 20  REAL_ESTATE       1000 non-null   int64\n",
      " 21  PROP_UNKN_NONE    1000 non-null   int64\n",
      " 22  AGE               1000 non-null   int64\n",
      " 23  OTHER_INSTALL     1000 non-null   int64\n",
      " 24  RENT              1000 non-null   int64\n",
      " 25  OWN_RES           1000 non-null   int64\n",
      " 26  NUM_CREDITS       1000 non-null   int64\n",
      " 27  JOB               1000 non-null   int64\n",
      " 28  NUM_DEPENDENTS    1000 non-null   int64\n",
      " 29  TELEPHONE         1000 non-null   int64\n",
      " 30  FOREIGN           1000 non-null   int64\n",
      " 31  RESPONSE          1000 non-null   int64\n",
      "dtypes: int64(32)\n",
      "memory usage: 250.1 KB\n"
     ]
    }
   ],
   "source": [
    "##Dataset Description\n",
    "df.info()"
   ]
  },
  {
   "cell_type": "markdown",
   "id": "4d72ba4e",
   "metadata": {},
   "source": [
    "###### No Null Rows in the Dataset"
   ]
  },
  {
   "cell_type": "code",
   "execution_count": 690,
   "id": "d61c5689",
   "metadata": {},
   "outputs": [
    {
     "data": {
      "text/plain": [
       "(1000, 32)"
      ]
     },
     "execution_count": 690,
     "metadata": {},
     "output_type": "execute_result"
    }
   ],
   "source": [
    "# shape of the dataset\n",
    "df.shape"
   ]
  },
  {
   "cell_type": "markdown",
   "id": "fc07e809",
   "metadata": {},
   "source": [
    "###### German Bank Dataset contains 1000 rows of obsevation and 32 Columns"
   ]
  },
  {
   "cell_type": "markdown",
   "id": "55d0cf55",
   "metadata": {},
   "source": [
    "###### 1.1 Removing the Redundant Variable "
   ]
  },
  {
   "cell_type": "code",
   "execution_count": 691,
   "id": "0e9f6992",
   "metadata": {},
   "outputs": [
    {
     "name": "stdout",
     "output_type": "stream",
     "text": [
      "31\n"
     ]
    }
   ],
   "source": [
    "df.drop(['TELEPHONE'], axis = 1, inplace = True)\n",
    "# Verifying the dataset post drop operation\n",
    "df_columns = len(df.columns)\n",
    "print(df_columns)"
   ]
  },
  {
   "cell_type": "markdown",
   "id": "22e473a0",
   "metadata": {},
   "source": [
    "###### Justification for Dropping Columns:\n",
    "        Telephone - Existence of Telephone for the borrower does not explain origination risk associated with a borrower. Telephone is more relevant in collection model."
   ]
  },
  {
   "cell_type": "markdown",
   "id": "532d42af",
   "metadata": {},
   "source": [
    "###### 1.2 Co-Variate Creation and Variable Summarisation"
   ]
  },
  {
   "cell_type": "code",
   "execution_count": 692,
   "id": "29bc04cd",
   "metadata": {},
   "outputs": [],
   "source": [
    "df['LOAN_PURPOSE'] = 0 #Others\n",
    "df.loc[(df['NEW_CAR'] == 1) | (df['USED_CAR'] == 1), 'LOAN_PURPOSE'] = 1  \n",
    "df.loc[(df['FURNITURE'] == 1) | (df['RADIO_TV'] == 1), 'LOAN_PURPOSE'] = 2  \n",
    "df.loc[(df['EDUCATION'] == 1) | (df['RETRAINING'] == 1), 'LOAN_PURPOSE'] = 3  \n",
    "\n",
    "df['GENDER'] = 0\n",
    "df.loc[(df['MALE_DIV'] == 1) | (df['MALE_SINGLE'] == 1) | (df['MALE_MAR_or_WID'] == 1), 'GENDER'] = 1\n",
    "\n",
    "df['RESIDENTIAL_STATUS'] = 0\n",
    "df.loc[df['OWN_RES'] == 1, 'RESIDENTIAL_STATUS'] = 1\n",
    "df.loc[df['RENT'] == 1, 'RESIDENTIAL_STATUS'] = 2\n",
    "\n",
    "df['APPLICANT_TYPE'] = 0\n",
    "df.loc[(df['CO_APPLICANT'] == 0) & (df['GUARANTOR'] == 0), 'APPLICANT_TYPE'] = 1\n",
    "\n",
    "df['PROPERTY_SOURCE'] = 0\n",
    "df.loc[df['REAL_ESTATE'] == 1, 'PROPERTY_SOURCE'] = 1\n",
    "df.loc[df['PROP_UNKN_NONE'] == 1, 'PROPERTY_SOURCE'] = 2"
   ]
  },
  {
   "cell_type": "code",
   "execution_count": 693,
   "id": "fe5089be",
   "metadata": {},
   "outputs": [],
   "source": [
    "# Dropping the primary component variables\n",
    "df.drop(['NEW_CAR', 'USED_CAR', 'FURNITURE', 'RADIO_TV', 'EDUCATION', 'RETRAINING', 'MALE_DIV',\n",
    "              'MALE_SINGLE', 'MALE_MAR_or_WID', 'OWN_RES', 'RENT', 'CO_APPLICANT', 'GUARANTOR',\n",
    "              'REAL_ESTATE', 'PROP_UNKN_NONE'], axis=1, inplace=True)"
   ]
  },
  {
   "cell_type": "markdown",
   "id": "2bbd5437",
   "metadata": {},
   "source": [
    "###### Justification for Dropping Columns:\n",
    "                Co-Variates for Loan_Purpose, Gender, Residential Status, Applicant Type and Property Source have been created for above dropped columns.                     "
   ]
  },
  {
   "cell_type": "code",
   "execution_count": 694,
   "id": "7239b757",
   "metadata": {},
   "outputs": [
    {
     "data": {
      "text/plain": [
       "(1000, 21)"
      ]
     },
     "execution_count": 694,
     "metadata": {},
     "output_type": "execute_result"
    }
   ],
   "source": [
    "df.shape"
   ]
  },
  {
   "cell_type": "code",
   "execution_count": 695,
   "id": "2b8d53bd",
   "metadata": {
    "scrolled": false
   },
   "outputs": [
    {
     "data": {
      "image/png": "[encoded data removed]",
      "text/plain": [
       "<Figure size 1296x864 with 6 Axes>"
      ]
     },
     "metadata": {},
     "output_type": "display_data"
    }
   ],
   "source": [
    "purpose_counts_loan = df['LOAN_PURPOSE'].value_counts()\n",
    "purpose_counts_Gender = df['GENDER'].value_counts()\n",
    "purpose_counts_Resi = df['RESIDENTIAL_STATUS'].value_counts()\n",
    "purpose_counts_Appli = df['APPLICANT_TYPE'].value_counts()\n",
    "purpose_counts_prop = df['PROPERTY_SOURCE'].value_counts()\n",
    "fig, axs = plt.subplots(2, 3, figsize=(18, 12))\n",
    "fig.suptitle('Co-Variate Distribution', fontsize=16)\n",
    "\n",
    "axs[0, 0].set_title('Loan Purpose')\n",
    "sns.barplot(ax=axs[0, 0], x=purpose_counts_loan.index, y=purpose_counts_loan.values, palette=\"viridis\")\n",
    "for i, count in enumerate(purpose_counts_loan.values):\n",
    "    axs[0, 0].text(i, count + 0.1, str(count), ha='center', va='bottom', fontsize=10)\n",
    "axs[0, 0].set_xlabel('Loan Purpose')\n",
    "axs[0, 0].set_ylabel('Count')\n",
    "axs[0, 0].set_xticklabels(axs[0, 0].get_xticklabels(), rotation=45, ha='right')\n",
    "axs[0, 0].legend(labels=['Others', 'Automobile Loan', 'Consumption Loan', 'L&D Loan'])\n",
    "\n",
    "axs[0, 1].set_title('Gender')\n",
    "sns.barplot(ax=axs[0, 1], x=purpose_counts_Gender.index, y=purpose_counts_Gender.values, palette=\"viridis\")\n",
    "for i, count in enumerate(purpose_counts_Gender.values):\n",
    "    axs[0, 1].text(i, count + 0.1, str(count), ha='center', va='bottom', fontsize=10)\n",
    "axs[0, 1].set_xlabel('Gender')\n",
    "axs[0, 1].set_ylabel('Count')\n",
    "axs[0, 1].set_xticklabels(axs[0, 1].get_xticklabels(), rotation=45, ha='right')\n",
    "axs[0, 1].legend(labels=['Female', 'Male'])\n",
    "\n",
    "axs[0, 2].set_title('Residential Type')\n",
    "sns.barplot(ax=axs[0, 2], x=purpose_counts_Resi.index, y=purpose_counts_Resi.values, palette=\"viridis\")\n",
    "for i, count in enumerate(purpose_counts_Resi.values):\n",
    "    axs[0, 2].text(i, count + 0.1, str(count), ha='center', va='bottom', fontsize=10)\n",
    "axs[0, 2].set_xlabel('Residential Type')\n",
    "axs[0, 2].set_ylabel('Count')\n",
    "axs[0, 2].set_xticklabels(axs[0, 2].get_xticklabels(), rotation=45, ha='right')\n",
    "axs[0, 2].legend(labels=['OTHERS', 'OWN_RES', 'RENT'])\n",
    "\n",
    "axs[1, 0].set_title('Applicant Type')\n",
    "sns.barplot(ax=axs[1, 0], x=purpose_counts_Appli.index, y=purpose_counts_Appli.values, palette=\"tab10\")\n",
    "for i, count in enumerate(purpose_counts_Appli.values):\n",
    "    axs[1, 0].text(i, count + 0.1, str(count), ha='center', va='bottom', fontsize=10)\n",
    "axs[1, 0].set_xlabel('Applicant Type')\n",
    "axs[1, 0].set_ylabel('Count')\n",
    "axs[1, 0].set_xticklabels(axs[1, 0].get_xticklabels(), rotation=45, ha='right')\n",
    "axs[1, 0].legend(labels=['CO-APPLICANT/GUARANTOR', 'INDIVIDUAL APPLICANT'])\n",
    "\n",
    "axs[1, 1].set_title('Property Type')\n",
    "sns.barplot(ax=axs[1, 1], x=purpose_counts_prop.index, y=purpose_counts_prop.values, palette=\"tab10\")\n",
    "for i, count in enumerate(purpose_counts_prop.values):\n",
    "    axs[1, 1].text(i, count + 0.1, str(count), ha='center', va='bottom', fontsize=10)\n",
    "axs[1, 1].set_xlabel('Property Type')\n",
    "axs[1, 1].set_ylabel('Count')\n",
    "axs[1, 1].set_xticklabels(axs[1, 1].get_xticklabels(), rotation=45, ha='right')\n",
    "axs[1, 1].legend(labels=['KNOWN PROPERTY', 'REAL ESTATE', 'UNKNOWN PROPERTY'])\n",
    "axs[1, 2].axis('off')\n",
    "plt.tight_layout(rect=[0, 0.03, 1, 0.95])\n",
    "plt.show()\n"
   ]
  },
  {
   "cell_type": "markdown",
   "id": "e5c6a126",
   "metadata": {},
   "source": [
    "###### 1.3 Explore the Expected Vs Observed Relationship of the Independent Variable with the Dependent Variable\n",
    "      Defination of the Response Variable\n",
    "                                         Y = 1 if the borrower is Good\n",
    "                                         Y = 0 Otherwise "
   ]
  },
  {
   "cell_type": "code",
   "execution_count": 696,
   "id": "3356a8fb",
   "metadata": {},
   "outputs": [
    {
     "data": {
      "image/png": "[encoded data removed]",
      "text/plain": [
       "<Figure size 432x288 with 1 Axes>"
      ]
     },
     "metadata": {},
     "output_type": "display_data"
    },
    {
     "data": {
      "text/plain": [
       "<Figure size 720x432 with 0 Axes>"
      ]
     },
     "metadata": {},
     "output_type": "display_data"
    }
   ],
   "source": [
    "sns.scatterplot(x='AMOUNT', y='AGE', hue='RESPONSE', data=df, palette='tab10')\n",
    "plt.title('Relationship Between AMOUNT and AGE with RESPONSE')\n",
    "plt.xlabel('AMOUNT')\n",
    "plt.ylabel('AGE')\n",
    "plt.figure(figsize=(10, 6))\n",
    "plt.show()\n"
   ]
  },
  {
   "cell_type": "markdown",
   "id": "8785e471",
   "metadata": {},
   "source": [
    "###### 1.3.2 :Relationship Between Chk_Acct (Current Account) and Response Variable \n",
    "         Check Account has for distinct Categories\n",
    "                           0 : < 0 DM\n",
    "                           1 : 0 < .. <200 DM\n",
    "                           2 : > 200 DM\n",
    "                           3 : No checking Account"
   ]
  },
  {
   "cell_type": "code",
   "execution_count": 697,
   "id": "5653f4ef",
   "metadata": {},
   "outputs": [
    {
     "name": "stdout",
     "output_type": "stream",
     "text": [
      "RESPONSE    0    1  Total   Sum\n",
      "CHK_ACCT                       \n",
      "0         135  139    274   274\n",
      "1         105  164    269   269\n",
      "2          14   49     63    63\n",
      "3          46  348    394   394\n",
      "Total     300  700   1000  1000\n"
     ]
    },
    {
     "data": {
      "image/png": "[encoded data removed]",
      "text/plain": [
       "<Figure size 720x432 with 1 Axes>"
      ]
     },
     "metadata": {},
     "output_type": "display_data"
    }
   ],
   "source": [
    "\n",
    "freq_tbl_Chck = pd.crosstab(df['CHK_ACCT'], df['RESPONSE'], margins=True, margins_name='Total')\n",
    "freq_tbl_Chck['Sum'] = freq_tbl_Chck[1] + freq_tbl_Chck[0]\n",
    "\n",
    "print(freq_tbl_Chck)\n",
    "freq_tbl_Chck.drop(columns=['Total', 'Sum'], inplace=True, errors='ignore')\n",
    "\n",
    "\n",
    "plt.figure(figsize=(10, 6))\n",
    "sns.set(style=\"darkgrid\")\n",
    "ax = sns.countplot(data=df, x='CHK_ACCT', hue='RESPONSE')\n",
    "\n",
    "\n",
    "total = len(df)\n",
    "for p in ax.patches:\n",
    "    height = p.get_height()\n",
    "    ax.text(p.get_x() + p.get_width() / 2.,\n",
    "            height + 3,\n",
    "            f'{height / total:.2%}',\n",
    "            ha='center')\n",
    "\n",
    "plt.title('Frequency Distribution of CHK_ACCT by RESPONSE')\n",
    "plt.xlabel('CHK_ACCT')\n",
    "plt.ylabel('Frequency')\n",
    "plt.legend(title='RESPONSE', loc='upper left')\n",
    "plt.show()\n"
   ]
  },
  {
   "cell_type": "markdown",
   "id": "2bdfcd20",
   "metadata": {},
   "source": [
    "###### 1.3.3 Relationship between Saving_Acct and Response Variable"
   ]
  },
  {
   "cell_type": "markdown",
   "id": "38988275",
   "metadata": {},
   "source": [
    "###### The major categories of Savings Account are\n",
    "         0: < 100 DM\n",
    "         1: 100 < = .. <  500 DM\n",
    "         2: 500 < = .. < 1000 DM\n",
    "         3: > 1000 DM\n",
    "         4: Unknown/ no savings account"
   ]
  },
  {
   "cell_type": "code",
   "execution_count": 698,
   "id": "4066d28b",
   "metadata": {},
   "outputs": [
    {
     "data": {
      "image/png": "[encoded data removed]",
      "text/plain": [
       "<Figure size 576x576 with 1 Axes>"
      ]
     },
     "metadata": {},
     "output_type": "display_data"
    }
   ],
   "source": [
    "\n",
    "freq_table_Sav_Ac = pd.crosstab(df['SAV_ACCT'], df['RESPONSE'], margins=True, margins_name='Total', dropna=False)\n",
    "freq_table_Sav_Ac = freq_table_Sav_Ac.drop('Total')\n",
    "\n",
    "labels = freq_table_Sav_Ac.index\n",
    "sizes = freq_table_Sav_Ac['Total'].values\n",
    "colors = plt.cm.Set3.colors\n",
    "fig, ax = plt.subplots(figsize=(8, 8))\n",
    "ax.pie(sizes, labels=labels, autopct='%1.1f%%', startangle=90, wedgeprops=dict(width=0.4), colors=colors)\n",
    "centre_circle = plt.Circle((0, 0), 0.6, color='white', fc='white', linewidth=1.25)\n",
    "fig = plt.gcf()\n",
    "fig.gca().add_artist(centre_circle)\n",
    "ax.axis('equal')\n",
    "plt.title('SAV_ACCT Distribution')\n",
    "plt.show()\n"
   ]
  },
  {
   "cell_type": "code",
   "execution_count": 699,
   "id": "a8d76f30",
   "metadata": {},
   "outputs": [
    {
     "data": {
      "text/plain": [
       "array([0, 2, 3, 1], dtype=int64)"
      ]
     },
     "execution_count": 699,
     "metadata": {},
     "output_type": "execute_result"
    }
   ],
   "source": [
    "##It is observed that Category 4 creates a break in the rank ordering of the relative bad rates.\n",
    "###Borrowers who do not have a saving account are as good as borrower having Saving account = 0. \n",
    "###Therefore, we will club this category with SAV_A/C =0 which pertains to accounts with a savings balance less than 100 DM. \n",
    "###These two groups can be treated distinctly if they have a proper rank ordered relationship.\n",
    "\n",
    "# Combining the SAV_ACCT = 0 and SAV_ACCT = 4 \n",
    "df['SAV_ACCT'] = df['SAV_ACCT'].apply(lambda x: 0 if x == 0 or x == 4 else x)\n",
    "\n",
    "df.rename(columns={'SAV_ACCT': 'SAV_ACCT'}, inplace=True)\n",
    "df['SAV_ACCT'].unique()"
   ]
  },
  {
   "cell_type": "markdown",
   "id": "9cce23c3",
   "metadata": {},
   "source": [
    "###### 1.4 Assessing the Actual Vs Expected Relationship between Saving Account and Bad Rates"
   ]
  },
  {
   "cell_type": "code",
   "execution_count": 700,
   "id": "5d6fc96d",
   "metadata": {},
   "outputs": [
    {
     "name": "stdout",
     "output_type": "stream",
     "text": [
      "RESPONSE          Bad  Good  Total\n",
      "SAV_ACCT                          \n",
      "Unknown/<100 DM  24.9  53.7   78.6\n",
      "100 <= 500        3.4   6.9   10.3\n",
      "501 <= 1000 DM    1.1   5.2    6.3\n",
      ">1000 DM          0.6   4.2    4.8\n",
      "Total            30.0  70.0  100.0\n"
     ]
    }
   ],
   "source": [
    "\n",
    "freq_table = pd.crosstab(df['SAV_ACCT'], df['RESPONSE'], margins=True, margins_name='Total', dropna=False)\n",
    "total_rows = freq_table.loc['Total', 'Total']\n",
    "freq_table_percent = freq_table / total_rows * 100\n",
    "column_names = ['Bad', 'Good', 'Total']\n",
    "index_names = ['Unknown/<100 DM', '100 <= 500', '501 <= 1000 DM', '>1000 DM', 'Total']\n",
    "freq_table_percent = freq_table_percent.rename(columns=dict(zip(freq_table_percent.columns, column_names)),\n",
    "                                               index=dict(zip(freq_table_percent.index, index_names)))\n",
    "print(freq_table_percent)"
   ]
  },
  {
   "cell_type": "markdown",
   "id": "d5e16eb6",
   "metadata": {},
   "source": [
    "Observation on Grouping:\n",
    "   79% of the bad borrowers are concentrated in the category of borrowers who do not have any savings account or maintain low savings balances. Borrowers who maintained more than 100DM in their savings account balances contain only 16% of the overall bad borrowers"
   ]
  },
  {
   "cell_type": "markdown",
   "id": "3f00b84c",
   "metadata": {},
   "source": [
    "###### 1.5 Checking Account as a Segmentation Variable: OverDraft  Vs Non-Overdraft Segment"
   ]
  },
  {
   "cell_type": "code",
   "execution_count": 701,
   "id": "160acff6",
   "metadata": {},
   "outputs": [],
   "source": [
    "#---- CHK_ACCT AS A SEGMENTATION VARIABLE : OVERDRAFT V/S NON-OVERDRAFT SEGMENT -----\n",
    "df['CURR_ACCT_STATUS'] = 0  # Default value\n",
    "df.loc[df['CHK_ACCT'].isin([0, 1]), 'CURR_ACCT_STATUS'] = 1\n",
    "df_result = df[['OBS', 'CHK_ACCT', 'RESPONSE', 'CURR_ACCT_STATUS']]"
   ]
  },
  {
   "cell_type": "code",
   "execution_count": 702,
   "id": "b0547a7d",
   "metadata": {},
   "outputs": [
    {
     "name": "stdout",
     "output_type": "stream",
     "text": [
      "RESPONSE_LABEL          Bad  Good  Total\n",
      "CURR_ACCT_STATUS_LABEL                  \n",
      "Have Current Account    240   303    543\n",
      "No Current Account       60   397    457\n",
      "Total                   300   700   1000\n"
     ]
    },
    {
     "data": {
      "image/png": "[encoded data removed]",
      "text/plain": [
       "<Figure size 720x576 with 2 Axes>"
      ]
     },
     "metadata": {},
     "output_type": "display_data"
    }
   ],
   "source": [
    "response_labels = {0: 'Bad', 1: 'Good'}\n",
    "curr_acct_labels = {1: 'Have Current Account', 0: 'No Current Account'}\n",
    "\n",
    "df['RESPONSE_LABEL'] = df['RESPONSE'].map(response_labels)\n",
    "df['CURR_ACCT_STATUS_LABEL'] = df['CURR_ACCT_STATUS'].map(curr_acct_labels)\n",
    "\n",
    "freq_table_CURR_ACCT_STATUS = pd.crosstab(df['CURR_ACCT_STATUS_LABEL'], df['RESPONSE_LABEL'], margins=True, margins_name='Total', dropna=False)\n",
    "print(freq_table_CURR_ACCT_STATUS)\n",
    "freq_table_without_total = freq_table_CURR_ACCT_STATUS.drop('Total', axis=0)\n",
    "freq_table_without_total = freq_table_without_total.drop('Total', axis=1)\n",
    "\n",
    "plt.figure(figsize=(10, 8))\n",
    "sns.heatmap(freq_table_without_total, annot=True, fmt=\"d\", cmap=\"YlGnBu\", cbar=True)\n",
    "plt.xlabel('RESPONSE')\n",
    "plt.ylabel('CURR_ACCT_STATUS')\n",
    "plt.title('Heatmap of CURR_ACCT_STATUS vs. RESPONSE')\n",
    "plt.show()"
   ]
  },
  {
   "cell_type": "markdown",
   "id": "d4516527",
   "metadata": {},
   "source": [
    "###### Observation:\n",
    "       1. 60% of the lending portfolio comprises of borrowers who have current account and the remaining 40% are borrowers without current account\n",
    "       2.60% of the lending portfolio comprises of borrowers who have current account and the remaining 40% are borrowers without current account\n",
    "       3. The segment of the borrowers who did not have a current account contains only 15% of the total number of bads, whereas the remaining 85% of the bads are concentrated in the segment of current account holders.\n",
    "       \n",
    "       Conclusion on Current Account Segment:\n",
    "       The Current account which 'Have Current Account' Contain Relatively More Risky Borrower than Account with No Current Account. Hence, Check Account is a Potential Segmentation Variable. "
   ]
  },
  {
   "cell_type": "markdown",
   "id": "28d25112",
   "metadata": {},
   "source": [
    "###### 1.6 Saving Account As a Segmentation Variable: Relationship Vs Non-Relationship"
   ]
  },
  {
   "cell_type": "code",
   "execution_count": 703,
   "id": "f357882a",
   "metadata": {
    "scrolled": false
   },
   "outputs": [
    {
     "name": "stdout",
     "output_type": "stream",
     "text": [
      "RESPONSE_LABEL             Bad  Good  Total\n",
      "RELATIONSHIP_STATUS_LABEL                  \n",
      "Non Relationship Borrower  249   537    786\n",
      "Relationship Borrower       51   163    214\n",
      "Total                      300   700   1000\n"
     ]
    },
    {
     "data": {
      "image/png": "[encoded data removed]",
      "text/plain": [
       "<Figure size 720x576 with 2 Axes>"
      ]
     },
     "metadata": {},
     "output_type": "display_data"
    }
   ],
   "source": [
    "df['RELATIONSHIP_STATUS'] = 0  # Default value\n",
    "df.loc[df['SAV_ACCT'] == 0, 'RELATIONSHIP_STATUS'] = 0\n",
    "df.loc[df['SAV_ACCT'] != 0, 'RELATIONSHIP_STATUS'] = 1\n",
    "df_result = df[['OBS', 'SAV_ACCT', 'RESPONSE', 'RELATIONSHIP_STATUS']]\n",
    "\n",
    "response_labels = {0: 'Bad', 1: 'Good'}\n",
    "Sav_acct_labels = {0: 'Non Relationship Borrower', 1: 'Relationship Borrower'}\n",
    "\n",
    "df['RESPONSE_LABEL'] = df['RESPONSE'].map(response_labels)\n",
    "df['RELATIONSHIP_STATUS_LABEL'] = df['RELATIONSHIP_STATUS'].map(Sav_acct_labels)\n",
    "\n",
    "freq_table_Sav_Acct_STATUS = pd.crosstab(df['RELATIONSHIP_STATUS_LABEL'], df['RESPONSE_LABEL'], margins=True, margins_name='Total', dropna=False)\n",
    "print(freq_table_Sav_Acct_STATUS)\n",
    "freq_table_without_total = freq_table_Sav_Acct_STATUS.drop('Total', axis=0)\n",
    "freq_table_without_total = freq_table_without_total.drop('Total', axis=1)\n",
    "\n",
    "plt.figure(figsize=(10, 8))\n",
    "sns.heatmap(freq_table_without_total, annot=True, fmt=\"d\", cmap=\"YlGnBu\", cbar=True)\n",
    "plt.xlabel('RESPONSE')\n",
    "plt.ylabel('RELATIONSHIP_STATUS')\n",
    "plt.title('Heatmap of RELATIONSHIP_STATUS vs. RESPONSE')\n",
    "plt.show()"
   ]
  },
  {
   "cell_type": "markdown",
   "id": "54c7c231",
   "metadata": {},
   "source": [
    "###### Observation:\n",
    "                  Non-Relationship Borrower resulted in 46% of the Defaults whereas Relationship Borrower resulted in 31% of the defaults in relationship segment. In total, Overall default was 42%. "
   ]
  },
  {
   "cell_type": "markdown",
   "id": "8a0d8289",
   "metadata": {},
   "source": [
    "###### 1.7 Assessing the Association Between the Variable \"History\" and the Dependent Variable"
   ]
  },
  {
   "cell_type": "code",
   "execution_count": 704,
   "id": "2ae7f91a",
   "metadata": {},
   "outputs": [
    {
     "name": "stdout",
     "output_type": "stream",
     "text": [
      "RESPONSE                        0    1  Total\n",
      "HISTORY                                      \n",
      "All Credit Paid                28   21     49\n",
      "Critical Account               50  243    293\n",
      "Existing_credit_Paid/Ongoing  169  361    530\n",
      "No_Credits_taken               25   15     40\n",
      "delinquent                     28   60     88\n",
      "Total                         300  700   1000\n"
     ]
    },
    {
     "data": {
      "image/png": "[encoded data removed]",
      "text/plain": [
       "<Figure size 720x432 with 1 Axes>"
      ]
     },
     "metadata": {},
     "output_type": "display_data"
    }
   ],
   "source": [
    "history_labels = {\n",
    "    0: 'No_Credits_taken',\n",
    "    1: 'All Credit Paid',\n",
    "    2: 'Existing_credit_Paid/Ongoing',\n",
    "    3: 'delinquent',\n",
    "    4: 'Critical Account'\n",
    "}\n",
    "df['HISTORY'] = df['HISTORY'].map(history_labels)\n",
    "df = df.sort_values(by='HISTORY')\n",
    "freq_table_HISTORY = pd.crosstab(df['HISTORY'], df['RESPONSE'], margins=True, margins_name='Total', dropna=False)\n",
    "print(freq_table_HISTORY)\n",
    "\n",
    "plt.figure(figsize=(10, 6))\n",
    "sns.set(style=\"whitegrid\")\n",
    "sns.countplot(data=df, x='HISTORY', hue='RESPONSE', palette='viridis')\n",
    "plt.title('Frequency Distribution of HISTORY by RESPONSE')\n",
    "plt.xlabel('HISTORY')\n",
    "plt.ylabel('Frequency')\n",
    "plt.legend(title='RESPONSE', loc='upper right')\n",
    "plt.show()"
   ]
  },
  {
   "cell_type": "markdown",
   "id": "eec2a477",
   "metadata": {},
   "source": [
    "###### 1.8 Assessing the Ticket Size of Each of the Products"
   ]
  },
  {
   "cell_type": "code",
   "execution_count": 705,
   "id": "382631bc",
   "metadata": {},
   "outputs": [
    {
     "name": "stdout",
     "output_type": "stream",
     "text": [
      "LOAN_PURPOSE_LABEL  AUTOMOBILES  CONSUMPTION  LEARNING DEVELOPMENT  \\\n",
      "mean                3768.192878  2715.114967           3825.510204   \n",
      "percentile_25       1364.000000  1382.000000           1535.000000   \n",
      "percentile_50       2679.000000  2136.000000           2622.000000   \n",
      "percentile_75       5248.000000  3349.000000           5205.000000   \n",
      "\n",
      "LOAN_PURPOSE_LABEL       OTHERS  \n",
      "mean                3406.527273  \n",
      "percentile_25       1136.000000  \n",
      "percentile_50       1424.000000  \n",
      "percentile_75       3659.500000  \n"
     ]
    },
    {
     "data": {
      "image/png": "[encoded data removed]",
      "text/plain": [
       "<Figure size 864x576 with 1 Axes>"
      ]
     },
     "metadata": {},
     "output_type": "display_data"
    }
   ],
   "source": [
    "purpose_mapping = {\n",
    "    0: 'OTHERS',\n",
    "    1: 'AUTOMOBILES',\n",
    "    2: 'CONSUMPTION',\n",
    "    3: 'LEARNING DEVELOPMENT'\n",
    "}\n",
    "df['LOAN_PURPOSE_LABEL'] = df['LOAN_PURPOSE'].map(purpose_mapping)\n",
    "df_temp = df[['OBS', 'AMOUNT', 'LOAN_PURPOSE_LABEL']]\n",
    "\n",
    "def percentile_25(x):\n",
    "    return np.percentile(x, 25)\n",
    "\n",
    "def percentile_50(x):\n",
    "    return np.percentile(x, 50)\n",
    "\n",
    "def percentile_75(x):\n",
    "    return np.percentile(x, 75)\n",
    "\n",
    "agg_funcs = {\n",
    "    'AMOUNT': ['mean', percentile_25, percentile_50, percentile_75]\n",
    "}\n",
    "\n",
    "pivot_table = df_temp.pivot_table(values='AMOUNT', columns='LOAN_PURPOSE_LABEL', aggfunc=agg_funcs)\n",
    "print(pivot_table)\n",
    "mean_amount_by_purpose = df_temp.groupby('LOAN_PURPOSE_LABEL')['AMOUNT'].mean().reset_index()\n",
    "colors = {'OTHERS': 'red', 'AUTOMOBILES': 'blue', 'CONSUMPTION': 'green', 'LEARNING DEVELOPMENT': 'purple'}\n",
    "plt.figure(figsize=(12, 8))\n",
    "sns.boxplot(x='LOAN_PURPOSE_LABEL', y='AMOUNT', data=df_temp, palette=colors)\n",
    "plt.title('Distribution of Amount by Loan Purpose')\n",
    "plt.xlabel('Loan Purpose')\n",
    "plt.ylabel('Amount')\n",
    "plt.show()\n"
   ]
  },
  {
   "cell_type": "code",
   "execution_count": 706,
   "id": "3d4e979b",
   "metadata": {},
   "outputs": [
    {
     "name": "stdout",
     "output_type": "stream",
     "text": [
      "RESPONSE_LABEL             Bad      Good  Frequency\n",
      "LOAN_PURPOSE_LABEL                                 \n",
      "AUTOMOBILES           0.314540  0.685460        337\n",
      "CONSUMPTION           0.260304  0.739696        461\n",
      "LEARNING DEVELOPMENT  0.380952  0.619048        147\n",
      "OTHERS                0.327273  0.672727         55\n",
      "Total                 0.300000  0.700000       1000\n"
     ]
    }
   ],
   "source": [
    "loan_purpose_mapping = {\n",
    "    0: 'OTHERS',\n",
    "    1: 'AUTOMOBILES',\n",
    "    2: 'CONSUMPTION',\n",
    "    3: 'LEARNING DEVELOPMENT'\n",
    "}\n",
    "response_mapping = {\n",
    "    0: 'Bad',\n",
    "    1: 'Good'\n",
    "}\n",
    "\n",
    "df['LOAN_PURPOSE_LABEL'] = df['LOAN_PURPOSE'].map(loan_purpose_mapping)\n",
    "df['RESPONSE_LABEL'] = df['RESPONSE'].map(response_mapping)\n",
    "freq_table = pd.crosstab(df['LOAN_PURPOSE_LABEL'], df['RESPONSE_LABEL'], margins=True, margins_name='Total', normalize='index', dropna=False)\n",
    "freq_table['Frequency'] = pd.crosstab(df['LOAN_PURPOSE_LABEL'], df['RESPONSE_LABEL'], margins=True, margins_name='Total', dropna=False).loc[:, 'Total']\n",
    "print(freq_table)"
   ]
  },
  {
   "cell_type": "markdown",
   "id": "4f738547",
   "metadata": {},
   "source": [
    "###### Observation:\n",
    "         1. Nearly 80% of the total accounts in the portfolio are related to Automobiles and Consumption loans. \n",
    "         These two products collectively contribute to almost 75% of the total bad accounts\n",
    "         2. There is a chance that larger defaults may occur with significant exposures,\n",
    "            especially in the case of large-ticket transactions.\n",
    "         3. The majority of the accounts classified as bad are primarily associated with Auto loans and Consumption Loans.\n",
    "         4.The ranking of bad rates will be consistent if Auto loans and Consumption loans are the two largest ticket loans, \n",
    "           as indicated by points (ii) and (iii)."
   ]
  },
  {
   "cell_type": "markdown",
   "id": "9609e0a8",
   "metadata": {},
   "source": [
    "###### 1.9 Asessing the Relationship between Age and The Response Variable"
   ]
  },
  {
   "cell_type": "code",
   "execution_count": 707,
   "id": "6cd6ed9c",
   "metadata": {},
   "outputs": [
    {
     "name": "stdout",
     "output_type": "stream",
     "text": [
      "   RESPONSE       mean  max  min\n",
      "0         0  33.963333   74   19\n",
      "1         1  36.224286   75   19\n"
     ]
    }
   ],
   "source": [
    "result = df.groupby('RESPONSE')['AGE'].agg(['mean', 'max', 'min']).reset_index()\n",
    "print(result)"
   ]
  },
  {
   "cell_type": "markdown",
   "id": "2225f27f",
   "metadata": {},
   "source": [
    "###### Observation :\n",
    "       1.The average age of customers in the group where Y = 1 is 36, whereas the average age in the group \n",
    "         where Y= 0 is 33\n",
    "       2.Consequently, we can infer that customers with a poor credit score tend to be in a younger age bracket. \n",
    "        Conducting additional tests of statistical significance will allow us to measure the statistical \n",
    "        mean difference more accurately."
   ]
  },
  {
   "cell_type": "markdown",
   "id": "8447022c",
   "metadata": {},
   "source": [
    "###### 1.9.1 Identifying the Bad & Good Rates Over the Age Group"
   ]
  },
  {
   "cell_type": "code",
   "execution_count": 708,
   "id": "78cf2b23",
   "metadata": {},
   "outputs": [],
   "source": [
    "sorted_df = df.sort_values(by=['AGE'], ascending=True)\n",
    "\n",
    "def categorize_age(age):\n",
    "    if age <= 29:\n",
    "        return \"19-29\"\n",
    "    elif age <= 39:\n",
    "        return \"29-39\"\n",
    "    elif age <= 49:\n",
    "        return \"39-49\"\n",
    "    elif age <= 59:\n",
    "        return \"49-59\"\n",
    "    elif age <= 69:\n",
    "        return \"59-69\"\n",
    "    else:\n",
    "        return \" > 70\"\n",
    "    \n",
    "sorted_df['Age_Group'] = sorted_df['AGE'].apply(categorize_age)\n",
    "age_group_summary = sorted_df.copy()"
   ]
  },
  {
   "cell_type": "code",
   "execution_count": 709,
   "id": "38067a16",
   "metadata": {},
   "outputs": [
    {
     "name": "stdout",
     "output_type": "stream",
     "text": [
      "           Age_Group\n",
      "Age_Group           \n",
      " > 70              1\n",
      "19-29            137\n",
      "29-39             85\n",
      "39-49             44\n",
      "49-59             21\n",
      "59-69             12\n"
     ]
    },
    {
     "data": {
      "image/png": "[encoded data removed]",
      "text/plain": [
       "<Figure size 432x288 with 1 Axes>"
      ]
     },
     "metadata": {},
     "output_type": "display_data"
    }
   ],
   "source": [
    "#Age Group Distribution when Response Variable = 0 \"BAD\"\n",
    "filtered_data_BAD_Rate = age_group_summary[age_group_summary['RESPONSE'] == 0]\n",
    "grouped_BAD_Rate = filtered_data_BAD_Rate.groupby('Age_Group').agg({'Age_Group': 'count'})\n",
    "print(grouped_BAD_Rate)\n",
    "\n",
    "grouped_BAD_Rate.plot(kind='bar', legend=False)\n",
    "plt.xlabel('Age Group')\n",
    "plt.ylabel('Count')\n",
    "plt.title('Count of Response = 0 by Age Group')\n",
    "plt.show()"
   ]
  },
  {
   "cell_type": "code",
   "execution_count": 710,
   "id": "9cd0f89d",
   "metadata": {},
   "outputs": [
    {
     "name": "stdout",
     "output_type": "stream",
     "text": [
      "           Age_Group\n",
      "Age_Group           \n",
      " > 70              6\n",
      "19-29            234\n",
      "29-39            245\n",
      "39-49            130\n",
      "49-59             53\n",
      "59-69             32\n"
     ]
    },
    {
     "data": {
      "image/png": "[encoded data removed]",
      "text/plain": [
       "<Figure size 432x288 with 1 Axes>"
      ]
     },
     "metadata": {},
     "output_type": "display_data"
    }
   ],
   "source": [
    "#Age Group Distribution when Response Variable = 1 \"Good\"\n",
    "\n",
    "filtered_data_Good_Rate = age_group_summary[age_group_summary['RESPONSE'] == 1]\n",
    "grouped_Good_Rate = filtered_data_Good_Rate.groupby('Age_Group').agg({'Age_Group': 'count'})\n",
    "print(grouped_Good_Rate)\n",
    "grouped_Good_Rate.plot(kind='bar', legend=False)\n",
    "plt.xlabel('Age Group')\n",
    "plt.ylabel('Count')\n",
    "plt.title('Count of Response = 1 by Age Group')\n",
    "plt.show()"
   ]
  },
  {
   "cell_type": "markdown",
   "id": "f6ca2cc4",
   "metadata": {},
   "source": [
    "###### Observation:\n",
    "     1. Bad rates are noted in the 19-29 age group, while conversely, good rates are also observed in the same age group.\n",
    "     2. Additionally, there is a decrease in bad rates from the 19-29 age group to the 59-69 age group, indicating a \n",
    "        continuous rank ordering without a significant break."
   ]
  },
  {
   "cell_type": "markdown",
   "id": "67bbd04c",
   "metadata": {},
   "source": [
    "###### 1.10 Assessing the Relationship Betwn Job Type, Year of Employment and Response Variable"
   ]
  },
  {
   "cell_type": "code",
   "execution_count": 711,
   "id": "b6b9838c",
   "metadata": {
    "scrolled": false
   },
   "outputs": [
    {
     "data": {
      "text/plain": [
       "<Figure size 720x432 with 0 Axes>"
      ]
     },
     "metadata": {},
     "output_type": "display_data"
    },
    {
     "data": {
      "image/png": "[encoded data removed]",
      "text/plain": [
       "<Figure size 432x288 with 1 Axes>"
      ]
     },
     "metadata": {},
     "output_type": "display_data"
    }
   ],
   "source": [
    "sorted_df_Job = df.sort_values(by=['JOB'], ascending=True)\n",
    "cross_tab = pd.crosstab(index=df['EMPLOYMENT'], columns=df['RESPONSE'], margins=True, margins_name='Total', dropna=False)\n",
    "grouped_cross_tab = df.groupby('JOB').apply(lambda x: pd.crosstab(index=x['EMPLOYMENT'], columns=x['RESPONSE'], margins=True, margins_name='Total', dropna=False))\n",
    "grouped_cross_tab.drop('Total', axis=1, inplace=True)\n",
    "employment_labels = {\n",
    "    0: 'UNEMPLOYED',\n",
    "    1: '<1 Yr',\n",
    "    2: '1 <= 4 Yr',\n",
    "    3: '4 <= 7 Yr',\n",
    "    4: '>= 7 Yr'\n",
    "}\n",
    "Response_Label = {\n",
    " 0 : 'Bad',\n",
    " 1 : 'Good'\n",
    "}\n",
    "df['RESPONSE'] = df['RESPONSE'].map(Response_Label)\n",
    "df['EMPLOYMENT'] = df['EMPLOYMENT'].map(employment_labels)\n",
    "cross_tab.index = cross_tab.index.map(employment_labels)\n",
    "\n",
    "plt.figure(figsize=(10, 6))\n",
    "cross_tab.plot(kind='barh', stacked=True, cmap=\"viridis\")\n",
    "plt.title('Employment vs. Response (Grouped Bar Chart)')\n",
    "plt.xlabel('Count')\n",
    "plt.ylabel('Employment_Tenure')\n",
    "plt.legend(title='Response', bbox_to_anchor=(1.05, 1), loc='upper left')\n",
    "plt.show()"
   ]
  },
  {
   "cell_type": "code",
   "execution_count": 712,
   "id": "729d0be3",
   "metadata": {},
   "outputs": [
    {
     "name": "stdout",
     "output_type": "stream",
     "text": [
      "RESPONSE  Bad  Good  Total\n",
      "JOB                       \n",
      "0           7    15     22\n",
      "1          56   144    200\n",
      "2         186   444    630\n",
      "3          51    97    148\n",
      "Total     300   700   1000\n"
     ]
    },
    {
     "data": {
      "text/plain": [
       "<Figure size 720x432 with 0 Axes>"
      ]
     },
     "metadata": {},
     "output_type": "display_data"
    },
    {
     "data": {
      "image/png": "[encoded data removed]",
      "text/plain": [
       "<Figure size 720x432 with 1 Axes>"
      ]
     },
     "metadata": {},
     "output_type": "display_data"
    }
   ],
   "source": [
    "\n",
    "cross_tab_Job = pd.crosstab(index=df['JOB'], columns=df['RESPONSE'], margins=True, margins_name='Total', dropna=False)\n",
    "print(cross_tab_Job)\n",
    "Job_labels = {\n",
    " 0 : 'UNEMPLOYED/UNSKILLED-NON RESIDENT',\n",
    " 1 : 'UNSKILLED - RESIDENT',\n",
    " 2 : 'SKILLED EMPLOYEE',\n",
    " 3 : 'HIGHLY QUALIFIED EMPLOYEE'\n",
    "}\n",
    "df['JOB'] = df['JOB'].map(Job_labels)\n",
    "Response_Label = {\n",
    " 0 : 'Bad',\n",
    " 1 : 'Good'\n",
    "}\n",
    "df['RESPONSE'] = df['RESPONSE'].map(Response_Label)\n",
    "cross_tab_Job.index = cross_tab_Job.index.map(Job_labels)\n",
    "plt.figure(figsize=(10, 6))\n",
    "ax = cross_tab_Job.plot(kind='barh', stacked=True, figsize=(10, 6), colormap='viridis')\n",
    "plt.title('JOB vs. Response (Stacked Bar Chart)')\n",
    "plt.xlabel('Response')\n",
    "plt.ylabel('JOB_Type')\n",
    "plt.legend(title='Response', bbox_to_anchor=(1.05, 1), loc='upper left')\n",
    "plt.show()"
   ]
  },
  {
   "cell_type": "markdown",
   "id": "69fd2536",
   "metadata": {},
   "source": [
    "###### Observation \n",
    "       1. Job = 0: Only 2% of the overall portfolio comprises non-resident unskilled applicants. 94% of borrowers are either \n",
    "       unemployed or have a working vintage of less than 1 year. This 94% accounts for 100% of the bad accounts. \n",
    "       71% of the bads are contained in employment = 0. Loans given to unemployed, unskilled, and non-resident borrowers \n",
    "       would be very risky. Similarly, applicants with employment = 1, i.e., with experience less than a year,\n",
    "       are relatively less risky, comprising about 29% of the bad borrowers. This justifies the conjecture that for a given \n",
    "       job category, a higher employment vintage increases the chances of a good borrower.\n",
    "\n",
    "      2. Job = 1: The overall bad rate for resident unskilled borrowers (28%) is lower than for non-resident \n",
    "      unskilled applicants (31%). Unskilled borrowers have low income levels and hence lower affordability, \n",
    "      resulting in higher overall bad rates for this group. 30% of total borrowers with less than 1 year of experience \n",
    "      turned out to be bad. Similarly, the percentage of bad borrowers decreases as overall employment vintage increases. \n",
    "      Higher employment vintage leads to higher chances of a borrower being a good borrower.\n",
    "\n",
    "     3.Job = 2, 3: These two categories are skilled applicants with much lower chances of being bad, as evident from \n",
    "     distinctly lower bad rates. However, the relative concentration of bad borrowers does not rank order for \n",
    "     some employment categories.\n",
    "\n",
    "     4.Conclusion = One important observation across all job categories is that an employee becomes more reliable after \n",
    "     working for more than four years in a given profession. Hence, the bad rate declines in the category employment = 3,4. \n",
    "     We propose converting the employment variable into two parts: employment <= 4 years and employment > 4 years. \n",
    "     Similarly, for job type, we propose converting it into a dichotomy: job_type = skilled and job_type = unskilled."
   ]
  },
  {
   "cell_type": "markdown",
   "id": "b881d1d4",
   "metadata": {},
   "source": [
    "###### 1.11 Assessing the Other Install Variable"
   ]
  },
  {
   "cell_type": "code",
   "execution_count": 713,
   "id": "9115f598",
   "metadata": {},
   "outputs": [],
   "source": [
    "df1 = df_source.copy()"
   ]
  },
  {
   "cell_type": "code",
   "execution_count": 714,
   "id": "9e78cd34",
   "metadata": {},
   "outputs": [
    {
     "name": "stdout",
     "output_type": "stream",
     "text": [
      "RESPONSE_Label                          Bad  Good  Total\n",
      "OTHER_INSTALL_Label                                     \n",
      "If the borrower has other installments   76   110    186\n",
      "Otherwise                               224   590    814\n",
      "Total                                   300   700   1000\n"
     ]
    }
   ],
   "source": [
    "df1['OTHER_INSTALL_Label'] = df1['OTHER_INSTALL'].map({1: 'If the borrower has other installments', 0: 'Otherwise'})\n",
    "df1['RESPONSE_Label'] = df1['RESPONSE'].map({0: 'Bad', 1: 'Good'})\n",
    "cross_tab = pd.crosstab(index=df1['OTHER_INSTALL_Label'], columns=df1['RESPONSE_Label'], margins=True, margins_name='Total', dropna=False)\n",
    "print(cross_tab)"
   ]
  },
  {
   "cell_type": "markdown",
   "id": "1f43530b",
   "metadata": {},
   "source": [
    "###### Observation :\n",
    "\n",
    "1. 81.4 % of the Overall Portfolio is Composed of Applicants who did not have any other Installment at the time of Application. Remaining 18.6% of the Portfolio is Composed of Applicants Had Other Installment Commitments. \n",
    "2. Out of the 81.4% of the Borrower who did not have any other loan commitments, Only 27.5% Turnout to be BAD as compared to the Borrower who had other Loan Commitments. 40% of the Later Type of Borrower Turned out to be BAD. \n",
    "3. The Relative distribution of BADs do not Rank Order. Out of the Total Number of 300 Bads 224 (75%) is concentrated in the Other install = 0 Segment. Other_Install = 1 Segment contains 76 Bads (25%).\n",
    "\n",
    "**Conclude - Segment with Other_Install = 0 is relatively less risky than Segment Other_Install = 1. The Actual and the Observed relationship is similar and Aligned to Each Other. "
   ]
  },
  {
   "cell_type": "markdown",
   "id": "f5449d04",
   "metadata": {},
   "source": [
    "### 02. PORTFOLIO REVIEW AND GAP IDENTIFICATION"
   ]
  },
  {
   "cell_type": "code",
   "execution_count": 715,
   "id": "0c2cf831",
   "metadata": {},
   "outputs": [],
   "source": [
    "Bank_Portfolio = df_source[['OBS','AMOUNT','DURATION', 'RESPONSE']]"
   ]
  },
  {
   "cell_type": "markdown",
   "id": "b5b5da7d",
   "metadata": {},
   "source": [
    "###### 2.0 REPORTING THE OVERALL ACCOUNTS,BALANCE AND AVERAGE BALANCES"
   ]
  },
  {
   "cell_type": "code",
   "execution_count": 716,
   "id": "e4d5f4e9",
   "metadata": {},
   "outputs": [
    {
     "name": "stdout",
     "output_type": "stream",
     "text": [
      "The Bank Total Receivables was 3271258\n",
      "The Bank Average Receivables was 3271.258\n",
      "The Bank Total Account Reported was 1000\n",
      "The Bank Highest Duration (months) was  72\n"
     ]
    }
   ],
   "source": [
    "### Total Receiavbles\n",
    "Total_receivables = Bank_Portfolio['AMOUNT'].sum()\n",
    "### Average Receiavbles\n",
    "Avg_receivables = Bank_Portfolio['AMOUNT'].mean()\n",
    "### Total Account\n",
    "Total_Account = Bank_Portfolio['OBS'].count()\n",
    "### Max DURATION\n",
    "Max_Duration = Bank_Portfolio['DURATION'].max()\n",
    "\n",
    "print(\"The Bank Total Receivables was\",Total_receivables)\n",
    "print(\"The Bank Average Receivables was\",Avg_receivables)\n",
    "print(\"The Bank Total Account Reported was\",Total_Account)\n",
    "print(\"The Bank Highest Duration (months) was \",Max_Duration)"
   ]
  },
  {
   "cell_type": "markdown",
   "id": "46d8992c",
   "metadata": {},
   "source": [
    "###### Observation :\n",
    "                   German Bank has total Receivable of 3.2 Million Deutschmark and Average Receivable of 3271.2 Deutschmark. Bank total accounts reported was 1000 accounts. "
   ]
  },
  {
   "cell_type": "markdown",
   "id": "0b4b766d",
   "metadata": {},
   "source": [
    "###### 2.1 REPORTING THE TOTAL DURATION OF LOANS, AVERAGE DURATION OF LOANS"
   ]
  },
  {
   "cell_type": "code",
   "execution_count": 717,
   "id": "95c5ec54",
   "metadata": {},
   "outputs": [
    {
     "name": "stdout",
     "output_type": "stream",
     "text": [
      "Total Duration of Loan reported is 20903\n",
      "Average Duration of Loan reported is 20.903\n"
     ]
    }
   ],
   "source": [
    "Total_Duration = Bank_Portfolio['DURATION'].sum()\n",
    "Mean_Duration = Bank_Portfolio['DURATION'].mean()\n",
    "\n",
    "print(\"Total Duration of Loan reported is\", Total_Duration)\n",
    "print(\"Average Duration of Loan reported is\", Mean_Duration)"
   ]
  },
  {
   "cell_type": "markdown",
   "id": "435d1142",
   "metadata": {},
   "source": [
    "##### Observation: \n",
    "               On an average a loan was given for 21 Months i.e. Slightly Less Than Two Years."
   ]
  },
  {
   "cell_type": "markdown",
   "id": "1ef81302",
   "metadata": {},
   "source": [
    "###### 2.2 DISTRIBUTION OF THE BALANCES AND ACCOUNTS BY THE BORROWER TYPES"
   ]
  },
  {
   "cell_type": "code",
   "execution_count": 718,
   "id": "23e74c94",
   "metadata": {},
   "outputs": [
    {
     "name": "stdout",
     "output_type": "stream",
     "text": [
      "   RESPONSE  Number_of_accounts    Total      Average\n",
      "0         0                 300  1181438  3938.126667\n",
      "1         1                 700  2089820  2985.457143\n"
     ]
    }
   ],
   "source": [
    "## Amount Variable seggregration based on a/c, total and average\n",
    "Portfolio_Summary_Amt = Bank_Portfolio.groupby('RESPONSE')['AMOUNT'].agg(\n",
    "    Number_of_accounts='count',\n",
    "    Total='sum',\n",
    "    Average='mean'\n",
    ").reset_index()\n",
    "\n",
    "print(Portfolio_Summary_Amt)"
   ]
  },
  {
   "cell_type": "markdown",
   "id": "31e8cc3e",
   "metadata": {},
   "source": [
    "###### Observation on Loans Disbursed\n",
    "\n",
    "        1. Total No. of Bads = 300\n",
    "        2. Total No. of Goods = 700\n",
    "        3. On an Average the borrower have been given 2985 DM Worth of Credit Whereas the Bad Borrower Hold DM 3938 \n",
    "           Worth of Credit.\n",
    "        4. Hence, There is an Observed Problem of adverse selection in this existent Lending Strategy. Adverse Selection  \n",
    "           refers to the process of Selecting the Bad Borrowers Over Good Borrower. "
   ]
  },
  {
   "cell_type": "code",
   "execution_count": 719,
   "id": "01f83891",
   "metadata": {},
   "outputs": [
    {
     "name": "stdout",
     "output_type": "stream",
     "text": [
      "   RESPONSE  Number_of_accounts  Total    Average\n",
      "0         0                 300   7458  24.860000\n",
      "1         1                 700  13445  19.207143\n"
     ]
    }
   ],
   "source": [
    "## Duration Variable seggregration based on a/c, total and average\n",
    "Portfolio_Summary_Dur = Bank_Portfolio.groupby('RESPONSE')['DURATION'].agg(\n",
    "    Number_of_accounts='count',\n",
    "    Total='sum',\n",
    "    Average='mean'\n",
    ").reset_index()\n",
    "\n",
    "print(Portfolio_Summary_Dur)"
   ]
  },
  {
   "cell_type": "markdown",
   "id": "850293f0",
   "metadata": {},
   "source": [
    "###### Observation on Loan Duration \n",
    "\n",
    "          1. The average Loan Duration given to borrower turned bad is 2 Years. \n",
    "          2. The average Loan Duration given to borrower not defaulted is 1 Year 7 Months. "
   ]
  },
  {
   "cell_type": "markdown",
   "id": "fc9aeeab",
   "metadata": {},
   "source": [
    "#### It is Evident from Loan and Duration assessment that points out flaws in existent lending strategy of German Bank."
   ]
  },
  {
   "cell_type": "markdown",
   "id": "fe773e96",
   "metadata": {},
   "source": [
    "###### 2.3 DEEP DIVING INTO THE CAUSES OF THE ADVERSE SELECTION WITH AMOUNT AND DURATION"
   ]
  },
  {
   "cell_type": "code",
   "execution_count": 720,
   "id": "13bd427f",
   "metadata": {},
   "outputs": [
    {
     "name": "stdout",
     "output_type": "stream",
     "text": [
      "          PCTL_\n",
      "0     250.00000\n",
      "1     425.83000\n",
      "2     638.70000\n",
      "3     708.95000\n",
      "4     932.00000\n",
      "5    1157.55000\n",
      "6    1365.50000\n",
      "7    2319.50000\n",
      "8    3972.25000\n",
      "9    4720.00000\n",
      "10   5969.95000\n",
      "11   7179.40000\n",
      "12   9162.70000\n",
      "13  14180.39000\n",
      "14  15947.47900\n",
      "15  18176.34790\n",
      "16  18399.23479\n",
      "17  18424.00000\n"
     ]
    }
   ],
   "source": [
    "df2 = df_source.copy()\n",
    "Total_Receivables_Summary = pd.DataFrame({\n",
    "    'PCTL_': np.percentile(df2['AMOUNT'], [0, 1, 3, 5, 10, 15, 25, 50, 75, 80, 85, 90, 95, 99, 99.9, 99.99, 99.999, 100])\n",
    "})\n",
    "\n",
    "# Display the resulting DataFrame\n",
    "print(Total_Receivables_Summary)"
   ]
  },
  {
   "cell_type": "markdown",
   "id": "f5aad7e9",
   "metadata": {},
   "source": [
    "###### Analysing the Distribution Result\n",
    "\n",
    "      1. PCTL_0 = 250: In the Percentile distribution there are 0% of the observation which are less than equal to 250. \n",
    "      2. PCTL_100 = 18424: In the Percentile distribution there are 100% of the observation which are less than equal to \n",
    "                           18424."
   ]
  },
  {
   "cell_type": "code",
   "execution_count": 721,
   "id": "d3ab2e9a",
   "metadata": {},
   "outputs": [],
   "source": [
    "df2['Total_Receivables'] = pd.cut(df2['AMOUNT'],\n",
    "                      bins=[float('-inf'), 1365, 2319.5, 3972.50, float('inf')],\n",
    "                      labels=[0, 1, 2, 3],\n",
    "                      right=False,\n",
    "                      include_lowest=True)\n"
   ]
  },
  {
   "cell_type": "code",
   "execution_count": 722,
   "id": "5834db20",
   "metadata": {},
   "outputs": [
    {
     "name": "stdout",
     "output_type": "stream",
     "text": [
      "RESPONSE             0    1  Total\n",
      "Total_Receivables                 \n",
      "0                   77  173    250\n",
      "1                   62  188    250\n",
      "2                   56  194    250\n",
      "3                  105  145    250\n",
      "Total              300  700   1000\n"
     ]
    }
   ],
   "source": [
    "cross_tab_total_receivable = pd.crosstab(index=df2['Total_Receivables'], columns=df1['RESPONSE'], margins=True, margins_name='Total', dropna=False)\n",
    "print(cross_tab_total_receivable)"
   ]
  },
  {
   "cell_type": "markdown",
   "id": "39405318",
   "metadata": {},
   "source": [
    "##### Observation on total_Receivables:\n",
    "               1. The Percentages of borrower Turning out BAD is seen to DECREASE across amount from 0,1,2. \n",
    "               2. Rank Ordering Break is seen in amount Category 2, as observed BAD is Increasing in at 3."
   ]
  },
  {
   "cell_type": "code",
   "execution_count": 723,
   "id": "2035ae66",
   "metadata": {},
   "outputs": [
    {
     "data": {
      "image/png": "[encoded data removed]",
      "text/plain": [
       "<Figure size 432x288 with 1 Axes>"
      ]
     },
     "metadata": {},
     "output_type": "display_data"
    }
   ],
   "source": [
    "sns.histplot(df2['AMOUNT'], kde=True)\n",
    "plt.title('Bell Curve for Amount')\n",
    "plt.xlabel('Amount')\n",
    "plt.ylabel('Frequency')\n",
    "plt.show()"
   ]
  },
  {
   "cell_type": "markdown",
   "id": "38394f8c",
   "metadata": {},
   "source": [
    "### 3. Data Quality Checks"
   ]
  },
  {
   "cell_type": "markdown",
   "id": "5038ba25",
   "metadata": {},
   "source": [
    "###### 3.0 Missing Observation Analysis"
   ]
  },
  {
   "cell_type": "code",
   "execution_count": 724,
   "id": "5db73426",
   "metadata": {},
   "outputs": [],
   "source": [
    "df3 = df_source.copy()"
   ]
  },
  {
   "cell_type": "code",
   "execution_count": 725,
   "id": "70058733",
   "metadata": {},
   "outputs": [],
   "source": [
    "var = ['OBS', 'CHK_ACCT', 'DURATION', 'HISTORY', 'NEW_CAR', 'USED_CAR',\n",
    "       'FURNITURE', 'RADIO_TV', 'EDUCATION', 'RETRAINING', 'AMOUNT',\n",
    "       'SAV_ACCT', 'EMPLOYMENT', 'INSTALL_RATE', 'MALE_DIV', 'MALE_SINGLE',\n",
    "       'MALE_MAR_or_WID', 'CO_APPLICANT', 'GUARANTOR', 'PRESENT_RESIDENT',\n",
    "       'REAL_ESTATE', 'PROP_UNKN_NONE', 'AGE', 'OTHER_INSTALL', 'RENT',\n",
    "       'OWN_RES', 'NUM_CREDITS', 'JOB', 'NUM_DEPENDENTS', 'TELEPHONE',\n",
    "       'FOREIGN', 'RESPONSE']\n",
    "\n",
    "def create_missing_flag(data, var):\n",
    "    for col in var:\n",
    "        data[col + '_Missing_Flag'] = data[col].isnull().astype(int)\n",
    "        data['Missing_Flag'] = data[col].apply(lambda x: 1 if pd.isnull(x) else 0)\n",
    "\n",
    "create_missing_flag(df3, var)"
   ]
  },
  {
   "cell_type": "code",
   "execution_count": 726,
   "id": "72c36133",
   "metadata": {},
   "outputs": [],
   "source": [
    "def calculate_missing_stats(data):\n",
    "    missing_cols = [col for col in data.columns if 'Missing_Flag' in col]\n",
    "    \n",
    "    for col in missing_cols:\n",
    "        count = data[col].sum()\n",
    "        sum_value = data[col].sum()\n",
    "        mean_value = data[col].mean()\n",
    "        \n",
    "        print(f\"Column: {col}\")\n",
    "        print(f\"Count: {count}\")\n",
    "        print(f\"Sum: {sum_value}\")\n",
    "        print(f\"Mean: {mean_value}\")\n",
    "        print(\"\\n\")"
   ]
  },
  {
   "cell_type": "code",
   "execution_count": 727,
   "id": "476b9172",
   "metadata": {},
   "outputs": [
    {
     "name": "stdout",
     "output_type": "stream",
     "text": [
      "Column: OBS_Missing_Flag\n",
      "Count: 0\n",
      "Sum: 0\n",
      "Mean: 0.0\n",
      "\n",
      "\n",
      "Column: Missing_Flag\n",
      "Count: 0\n",
      "Sum: 0\n",
      "Mean: 0.0\n",
      "\n",
      "\n",
      "Column: CHK_ACCT_Missing_Flag\n",
      "Count: 0\n",
      "Sum: 0\n",
      "Mean: 0.0\n",
      "\n",
      "\n",
      "Column: DURATION_Missing_Flag\n",
      "Count: 0\n",
      "Sum: 0\n",
      "Mean: 0.0\n",
      "\n",
      "\n",
      "Column: HISTORY_Missing_Flag\n",
      "Count: 0\n",
      "Sum: 0\n",
      "Mean: 0.0\n",
      "\n",
      "\n",
      "Column: NEW_CAR_Missing_Flag\n",
      "Count: 0\n",
      "Sum: 0\n",
      "Mean: 0.0\n",
      "\n",
      "\n",
      "Column: USED_CAR_Missing_Flag\n",
      "Count: 0\n",
      "Sum: 0\n",
      "Mean: 0.0\n",
      "\n",
      "\n",
      "Column: FURNITURE_Missing_Flag\n",
      "Count: 0\n",
      "Sum: 0\n",
      "Mean: 0.0\n",
      "\n",
      "\n",
      "Column: RADIO_TV_Missing_Flag\n",
      "Count: 0\n",
      "Sum: 0\n",
      "Mean: 0.0\n",
      "\n",
      "\n",
      "Column: EDUCATION_Missing_Flag\n",
      "Count: 0\n",
      "Sum: 0\n",
      "Mean: 0.0\n",
      "\n",
      "\n",
      "Column: RETRAINING_Missing_Flag\n",
      "Count: 0\n",
      "Sum: 0\n",
      "Mean: 0.0\n",
      "\n",
      "\n",
      "Column: AMOUNT_Missing_Flag\n",
      "Count: 0\n",
      "Sum: 0\n",
      "Mean: 0.0\n",
      "\n",
      "\n",
      "Column: SAV_ACCT_Missing_Flag\n",
      "Count: 0\n",
      "Sum: 0\n",
      "Mean: 0.0\n",
      "\n",
      "\n",
      "Column: EMPLOYMENT_Missing_Flag\n",
      "Count: 0\n",
      "Sum: 0\n",
      "Mean: 0.0\n",
      "\n",
      "\n",
      "Column: INSTALL_RATE_Missing_Flag\n",
      "Count: 0\n",
      "Sum: 0\n",
      "Mean: 0.0\n",
      "\n",
      "\n",
      "Column: MALE_DIV_Missing_Flag\n",
      "Count: 0\n",
      "Sum: 0\n",
      "Mean: 0.0\n",
      "\n",
      "\n",
      "Column: MALE_SINGLE_Missing_Flag\n",
      "Count: 0\n",
      "Sum: 0\n",
      "Mean: 0.0\n",
      "\n",
      "\n",
      "Column: MALE_MAR_or_WID_Missing_Flag\n",
      "Count: 0\n",
      "Sum: 0\n",
      "Mean: 0.0\n",
      "\n",
      "\n",
      "Column: CO_APPLICANT_Missing_Flag\n",
      "Count: 0\n",
      "Sum: 0\n",
      "Mean: 0.0\n",
      "\n",
      "\n",
      "Column: GUARANTOR_Missing_Flag\n",
      "Count: 0\n",
      "Sum: 0\n",
      "Mean: 0.0\n",
      "\n",
      "\n",
      "Column: PRESENT_RESIDENT_Missing_Flag\n",
      "Count: 0\n",
      "Sum: 0\n",
      "Mean: 0.0\n",
      "\n",
      "\n",
      "Column: REAL_ESTATE_Missing_Flag\n",
      "Count: 0\n",
      "Sum: 0\n",
      "Mean: 0.0\n",
      "\n",
      "\n",
      "Column: PROP_UNKN_NONE_Missing_Flag\n",
      "Count: 0\n",
      "Sum: 0\n",
      "Mean: 0.0\n",
      "\n",
      "\n",
      "Column: AGE_Missing_Flag\n",
      "Count: 0\n",
      "Sum: 0\n",
      "Mean: 0.0\n",
      "\n",
      "\n",
      "Column: OTHER_INSTALL_Missing_Flag\n",
      "Count: 0\n",
      "Sum: 0\n",
      "Mean: 0.0\n",
      "\n",
      "\n",
      "Column: RENT_Missing_Flag\n",
      "Count: 0\n",
      "Sum: 0\n",
      "Mean: 0.0\n",
      "\n",
      "\n",
      "Column: OWN_RES_Missing_Flag\n",
      "Count: 0\n",
      "Sum: 0\n",
      "Mean: 0.0\n",
      "\n",
      "\n",
      "Column: NUM_CREDITS_Missing_Flag\n",
      "Count: 0\n",
      "Sum: 0\n",
      "Mean: 0.0\n",
      "\n",
      "\n",
      "Column: JOB_Missing_Flag\n",
      "Count: 0\n",
      "Sum: 0\n",
      "Mean: 0.0\n",
      "\n",
      "\n",
      "Column: NUM_DEPENDENTS_Missing_Flag\n",
      "Count: 0\n",
      "Sum: 0\n",
      "Mean: 0.0\n",
      "\n",
      "\n",
      "Column: TELEPHONE_Missing_Flag\n",
      "Count: 0\n",
      "Sum: 0\n",
      "Mean: 0.0\n",
      "\n",
      "\n",
      "Column: FOREIGN_Missing_Flag\n",
      "Count: 0\n",
      "Sum: 0\n",
      "Mean: 0.0\n",
      "\n",
      "\n",
      "Column: RESPONSE_Missing_Flag\n",
      "Count: 0\n",
      "Sum: 0\n",
      "Mean: 0.0\n",
      "\n",
      "\n"
     ]
    }
   ],
   "source": [
    "calculate_missing_stats(df3)"
   ]
  },
  {
   "cell_type": "markdown",
   "id": "dacedd73",
   "metadata": {},
   "source": [
    "###### Observation:\n",
    "                 There is no missing value in all variable associated with the dataset.\n",
    "                 "
   ]
  },
  {
   "cell_type": "markdown",
   "id": "709908e6",
   "metadata": {},
   "source": [
    "###### 3.1 Keep-Drop Analysis for the Missing Observation Summary"
   ]
  },
  {
   "cell_type": "code",
   "execution_count": 728,
   "id": "fe63e101",
   "metadata": {},
   "outputs": [
    {
     "name": "stdout",
     "output_type": "stream",
     "text": [
      "Column: OBS_Missing_Flag\n",
      "Count of Missing Values: 0\n",
      "Status: KEEP\n",
      "\n",
      "\n",
      "Column: Missing_Flag\n",
      "Count of Missing Values: 0\n",
      "Status: KEEP\n",
      "\n",
      "\n",
      "Column: CHK_ACCT_Missing_Flag\n",
      "Count of Missing Values: 0\n",
      "Status: KEEP\n",
      "\n",
      "\n",
      "Column: DURATION_Missing_Flag\n",
      "Count of Missing Values: 0\n",
      "Status: KEEP\n",
      "\n",
      "\n",
      "Column: HISTORY_Missing_Flag\n",
      "Count of Missing Values: 0\n",
      "Status: KEEP\n",
      "\n",
      "\n",
      "Column: NEW_CAR_Missing_Flag\n",
      "Count of Missing Values: 0\n",
      "Status: KEEP\n",
      "\n",
      "\n",
      "Column: USED_CAR_Missing_Flag\n",
      "Count of Missing Values: 0\n",
      "Status: KEEP\n",
      "\n",
      "\n",
      "Column: FURNITURE_Missing_Flag\n",
      "Count of Missing Values: 0\n",
      "Status: KEEP\n",
      "\n",
      "\n",
      "Column: RADIO_TV_Missing_Flag\n",
      "Count of Missing Values: 0\n",
      "Status: KEEP\n",
      "\n",
      "\n",
      "Column: EDUCATION_Missing_Flag\n",
      "Count of Missing Values: 0\n",
      "Status: KEEP\n",
      "\n",
      "\n",
      "Column: RETRAINING_Missing_Flag\n",
      "Count of Missing Values: 0\n",
      "Status: KEEP\n",
      "\n",
      "\n",
      "Column: AMOUNT_Missing_Flag\n",
      "Count of Missing Values: 0\n",
      "Status: KEEP\n",
      "\n",
      "\n",
      "Column: SAV_ACCT_Missing_Flag\n",
      "Count of Missing Values: 0\n",
      "Status: KEEP\n",
      "\n",
      "\n",
      "Column: EMPLOYMENT_Missing_Flag\n",
      "Count of Missing Values: 0\n",
      "Status: KEEP\n",
      "\n",
      "\n",
      "Column: INSTALL_RATE_Missing_Flag\n",
      "Count of Missing Values: 0\n",
      "Status: KEEP\n",
      "\n",
      "\n",
      "Column: MALE_DIV_Missing_Flag\n",
      "Count of Missing Values: 0\n",
      "Status: KEEP\n",
      "\n",
      "\n",
      "Column: MALE_SINGLE_Missing_Flag\n",
      "Count of Missing Values: 0\n",
      "Status: KEEP\n",
      "\n",
      "\n",
      "Column: MALE_MAR_or_WID_Missing_Flag\n",
      "Count of Missing Values: 0\n",
      "Status: KEEP\n",
      "\n",
      "\n",
      "Column: CO_APPLICANT_Missing_Flag\n",
      "Count of Missing Values: 0\n",
      "Status: KEEP\n",
      "\n",
      "\n",
      "Column: GUARANTOR_Missing_Flag\n",
      "Count of Missing Values: 0\n",
      "Status: KEEP\n",
      "\n",
      "\n",
      "Column: PRESENT_RESIDENT_Missing_Flag\n",
      "Count of Missing Values: 0\n",
      "Status: KEEP\n",
      "\n",
      "\n",
      "Column: REAL_ESTATE_Missing_Flag\n",
      "Count of Missing Values: 0\n",
      "Status: KEEP\n",
      "\n",
      "\n",
      "Column: PROP_UNKN_NONE_Missing_Flag\n",
      "Count of Missing Values: 0\n",
      "Status: KEEP\n",
      "\n",
      "\n",
      "Column: AGE_Missing_Flag\n",
      "Count of Missing Values: 0\n",
      "Status: KEEP\n",
      "\n",
      "\n",
      "Column: OTHER_INSTALL_Missing_Flag\n",
      "Count of Missing Values: 0\n",
      "Status: KEEP\n",
      "\n",
      "\n",
      "Column: RENT_Missing_Flag\n",
      "Count of Missing Values: 0\n",
      "Status: KEEP\n",
      "\n",
      "\n",
      "Column: OWN_RES_Missing_Flag\n",
      "Count of Missing Values: 0\n",
      "Status: KEEP\n",
      "\n",
      "\n",
      "Column: NUM_CREDITS_Missing_Flag\n",
      "Count of Missing Values: 0\n",
      "Status: KEEP\n",
      "\n",
      "\n",
      "Column: JOB_Missing_Flag\n",
      "Count of Missing Values: 0\n",
      "Status: KEEP\n",
      "\n",
      "\n",
      "Column: NUM_DEPENDENTS_Missing_Flag\n",
      "Count of Missing Values: 0\n",
      "Status: KEEP\n",
      "\n",
      "\n",
      "Column: TELEPHONE_Missing_Flag\n",
      "Count of Missing Values: 0\n",
      "Status: KEEP\n",
      "\n",
      "\n",
      "Column: FOREIGN_Missing_Flag\n",
      "Count of Missing Values: 0\n",
      "Status: KEEP\n",
      "\n",
      "\n",
      "Column: RESPONSE_Missing_Flag\n",
      "Count of Missing Values: 0\n",
      "Status: KEEP\n",
      "\n",
      "\n"
     ]
    }
   ],
   "source": [
    "def calculate_missing_status(data):\n",
    "    missing_cols = [col for col in data.columns if 'Missing_Flag' in col]\n",
    "    \n",
    "    for col in missing_cols:\n",
    "        count = data[col].sum()\n",
    "        \n",
    "        status = 'INV' if count > 0 else 'KEEP'\n",
    "        \n",
    "        print(f\"Column: {col}\")\n",
    "        print(f\"Count of Missing Values: {count}\")\n",
    "        print(f\"Status: {status}\")\n",
    "        print(\"\\n\")\n",
    "calculate_missing_status(df3)"
   ]
  },
  {
   "cell_type": "markdown",
   "id": "0bda524b",
   "metadata": {},
   "source": [
    "##### Observation on missing variable:\n",
    "            There is no missing value. Hence, 100% of the variables are retained back for next step of the analysis. "
   ]
  },
  {
   "cell_type": "markdown",
   "id": "01c6b063",
   "metadata": {},
   "source": [
    "###### 3.2 Differentiating the Variable into ID,Date, Categorical and Continous Variable"
   ]
  },
  {
   "cell_type": "code",
   "execution_count": 729,
   "id": "cbe8cee4",
   "metadata": {},
   "outputs": [],
   "source": [
    "df4 = df_source.copy()"
   ]
  },
  {
   "cell_type": "code",
   "execution_count": 730,
   "id": "27740b46",
   "metadata": {},
   "outputs": [],
   "source": [
    "df4['LOAN_PURPOSE'] = 0 #Others\n",
    "df4.loc[(df4['NEW_CAR'] == 1) | (df4['USED_CAR'] == 1), 'LOAN_PURPOSE'] = 1  \n",
    "df4.loc[(df4['FURNITURE'] == 1) | (df4['RADIO_TV'] == 1), 'LOAN_PURPOSE'] = 2  \n",
    "df4.loc[(df4['EDUCATION'] == 1) | (df4['RETRAINING'] == 1), 'LOAN_PURPOSE'] = 3  \n",
    "\n",
    "df4['GENDER'] = 0\n",
    "df4.loc[(df4['MALE_DIV'] == 1) | (df4['MALE_SINGLE'] == 1) | (df4['MALE_MAR_or_WID'] == 1), 'GENDER'] = 1\n",
    "\n",
    "df4['RESIDENTIAL_STATUS'] = 0\n",
    "df4.loc[df4['OWN_RES'] == 1, 'RESIDENTIAL_STATUS'] = 1\n",
    "df4.loc[df4['RENT'] == 1, 'RESIDENTIAL_STATUS'] = 2\n",
    "\n",
    "df4['APPLICANT_TYPE'] = 0\n",
    "df4.loc[(df4['CO_APPLICANT'] == 0) & (df4['GUARANTOR'] == 0), 'APPLICANT_TYPE'] = 1\n",
    "\n",
    "df4['PROPERTY_SOURCE'] = 0\n",
    "df4.loc[df4['REAL_ESTATE'] == 1, 'PROPERTY_SOURCE'] = 1\n",
    "df4.loc[df4['PROP_UNKN_NONE'] == 1, 'PROPERTY_SOURCE'] = 2"
   ]
  },
  {
   "cell_type": "code",
   "execution_count": 731,
   "id": "365b1132",
   "metadata": {},
   "outputs": [],
   "source": [
    "df4.drop(['NEW_CAR', 'USED_CAR', 'FURNITURE', 'RADIO_TV', 'EDUCATION', 'RETRAINING', 'MALE_DIV',\n",
    "              'MALE_SINGLE', 'MALE_MAR_or_WID', 'OWN_RES', 'RENT', 'CO_APPLICANT', 'GUARANTOR',\n",
    "              'REAL_ESTATE', 'PROP_UNKN_NONE'], axis=1, inplace=True)"
   ]
  },
  {
   "cell_type": "code",
   "execution_count": 732,
   "id": "5a29ed86",
   "metadata": {},
   "outputs": [],
   "source": [
    "# Apply the condition to create the new variable 'Loan_Purpose1'\n",
    "df4['Loan_Purpose1'] = df4['LOAN_PURPOSE'].apply(lambda x: 3 if x in [0, 3] else x)"
   ]
  },
  {
   "cell_type": "code",
   "execution_count": 733,
   "id": "0f40fee6",
   "metadata": {},
   "outputs": [],
   "source": [
    "### Relationship - Accounts which either have a Current or a Saving Account with Bank\n",
    "df4['Relationship_Flag'] = 1  # Initialize with 1\n",
    "df4.loc[(df4['CHK_ACCT'] == 3) & (df4['SAV_ACCT'] == 4), 'Relationship_Flag'] = 0"
   ]
  },
  {
   "cell_type": "code",
   "execution_count": 734,
   "id": "3d75f869",
   "metadata": {},
   "outputs": [],
   "source": [
    "## Narrowing down Loan\n",
    "## 0 - Retail Loan, 1 - Motor Loan\n",
    "df4['LOAN_PURPOSE_L2'] = 1  # Initialize with 1\n",
    "df4.loc[df4['LOAN_PURPOSE'].isin([2, 3, 0]), 'LOAN_PURPOSE_L2'] = 0"
   ]
  },
  {
   "cell_type": "code",
   "execution_count": 735,
   "id": "c8caabc2",
   "metadata": {},
   "outputs": [
    {
     "name": "stdout",
     "output_type": "stream",
     "text": [
      "Column: OBS\n",
      "Categories and Counts:\n",
      "1       1\n",
      "672     1\n",
      "659     1\n",
      "660     1\n",
      "661     1\n",
      "       ..\n",
      "339     1\n",
      "340     1\n",
      "341     1\n",
      "342     1\n",
      "1000    1\n",
      "Name: OBS, Length: 1000, dtype: int64\n",
      "\n",
      "\n",
      "Column: CHK_ACCT\n",
      "Categories and Counts:\n",
      "3    394\n",
      "0    274\n",
      "1    269\n",
      "2     63\n",
      "Name: CHK_ACCT, dtype: int64\n",
      "\n",
      "\n",
      "Column: DURATION\n",
      "Categories and Counts:\n",
      "24    184\n",
      "12    179\n",
      "18    113\n",
      "36     83\n",
      "6      75\n",
      "15     64\n",
      "9      49\n",
      "48     48\n",
      "30     40\n",
      "21     30\n",
      "10     28\n",
      "60     13\n",
      "27     13\n",
      "42     11\n",
      "11      9\n",
      "20      8\n",
      "8       7\n",
      "4       6\n",
      "45      5\n",
      "7       5\n",
      "39      5\n",
      "14      4\n",
      "13      4\n",
      "33      3\n",
      "28      3\n",
      "54      2\n",
      "16      2\n",
      "22      2\n",
      "47      1\n",
      "5       1\n",
      "26      1\n",
      "72      1\n",
      "40      1\n",
      "Name: DURATION, dtype: int64\n",
      "\n",
      "\n",
      "Column: HISTORY\n",
      "Categories and Counts:\n",
      "2    530\n",
      "4    293\n",
      "3     88\n",
      "1     49\n",
      "0     40\n",
      "Name: HISTORY, dtype: int64\n",
      "\n",
      "\n",
      "Column: AMOUNT\n",
      "Categories and Counts:\n",
      "1478    3\n",
      "1262    3\n",
      "1258    3\n",
      "1275    3\n",
      "1393    3\n",
      "       ..\n",
      "1459    1\n",
      "882     1\n",
      "3758    1\n",
      "1136    1\n",
      "4576    1\n",
      "Name: AMOUNT, Length: 921, dtype: int64\n",
      "\n",
      "\n",
      "Column: SAV_ACCT\n",
      "Categories and Counts:\n",
      "0    603\n",
      "4    183\n",
      "1    103\n",
      "2     63\n",
      "3     48\n",
      "Name: SAV_ACCT, dtype: int64\n",
      "\n",
      "\n",
      "Column: EMPLOYMENT\n",
      "Categories and Counts:\n",
      "2    339\n",
      "4    253\n",
      "3    174\n",
      "1    172\n",
      "0     62\n",
      "Name: EMPLOYMENT, dtype: int64\n",
      "\n",
      "\n",
      "Column: INSTALL_RATE\n",
      "Categories and Counts:\n",
      "4    476\n",
      "2    231\n",
      "3    157\n",
      "1    136\n",
      "Name: INSTALL_RATE, dtype: int64\n",
      "\n",
      "\n",
      "Column: PRESENT_RESIDENT\n",
      "Categories and Counts:\n",
      "4    413\n",
      "2    308\n",
      "3    149\n",
      "1    130\n",
      "Name: PRESENT_RESIDENT, dtype: int64\n",
      "\n",
      "\n",
      "Column: AGE\n",
      "Categories and Counts:\n",
      "27    51\n",
      "26    50\n",
      "23    48\n",
      "24    44\n",
      "28    43\n",
      "25    41\n",
      "30    40\n",
      "35    40\n",
      "36    39\n",
      "31    38\n",
      "29    37\n",
      "32    34\n",
      "33    33\n",
      "34    32\n",
      "37    29\n",
      "22    27\n",
      "40    25\n",
      "38    24\n",
      "42    22\n",
      "39    21\n",
      "46    18\n",
      "43    17\n",
      "47    17\n",
      "44    17\n",
      "41    17\n",
      "45    15\n",
      "20    14\n",
      "21    14\n",
      "49    14\n",
      "50    12\n",
      "48    12\n",
      "54    10\n",
      "57     9\n",
      "52     9\n",
      "51     8\n",
      "55     8\n",
      "63     8\n",
      "61     7\n",
      "53     7\n",
      "60     6\n",
      "65     5\n",
      "58     5\n",
      "64     5\n",
      "66     5\n",
      "74     4\n",
      "67     3\n",
      "68     3\n",
      "56     3\n",
      "59     3\n",
      "75     2\n",
      "19     2\n",
      "62     2\n",
      "70     1\n",
      "Name: AGE, dtype: int64\n",
      "\n",
      "\n",
      "Column: OTHER_INSTALL\n",
      "Categories and Counts:\n",
      "0    814\n",
      "1    186\n",
      "Name: OTHER_INSTALL, dtype: int64\n",
      "\n",
      "\n",
      "Column: NUM_CREDITS\n",
      "Categories and Counts:\n",
      "1    633\n",
      "2    333\n",
      "3     28\n",
      "4      6\n",
      "Name: NUM_CREDITS, dtype: int64\n",
      "\n",
      "\n",
      "Column: JOB\n",
      "Categories and Counts:\n",
      "2    630\n",
      "1    200\n",
      "3    148\n",
      "0     22\n",
      "Name: JOB, dtype: int64\n",
      "\n",
      "\n",
      "Column: NUM_DEPENDENTS\n",
      "Categories and Counts:\n",
      "1    845\n",
      "2    155\n",
      "Name: NUM_DEPENDENTS, dtype: int64\n",
      "\n",
      "\n",
      "Column: TELEPHONE\n",
      "Categories and Counts:\n",
      "0    596\n",
      "1    404\n",
      "Name: TELEPHONE, dtype: int64\n",
      "\n",
      "\n",
      "Column: FOREIGN\n",
      "Categories and Counts:\n",
      "0    963\n",
      "1     37\n",
      "Name: FOREIGN, dtype: int64\n",
      "\n",
      "\n",
      "Column: RESPONSE\n",
      "Categories and Counts:\n",
      "1    700\n",
      "0    300\n",
      "Name: RESPONSE, dtype: int64\n",
      "\n",
      "\n",
      "Column: LOAN_PURPOSE\n",
      "Categories and Counts:\n",
      "2    461\n",
      "1    337\n",
      "3    147\n",
      "0     55\n",
      "Name: LOAN_PURPOSE, dtype: int64\n",
      "\n",
      "\n",
      "Column: GENDER\n",
      "Categories and Counts:\n",
      "1    690\n",
      "0    310\n",
      "Name: GENDER, dtype: int64\n",
      "\n",
      "\n",
      "Column: RESIDENTIAL_STATUS\n",
      "Categories and Counts:\n",
      "1    713\n",
      "2    179\n",
      "0    108\n",
      "Name: RESIDENTIAL_STATUS, dtype: int64\n",
      "\n",
      "\n",
      "Column: APPLICANT_TYPE\n",
      "Categories and Counts:\n",
      "1    907\n",
      "0     93\n",
      "Name: APPLICANT_TYPE, dtype: int64\n",
      "\n",
      "\n",
      "Column: PROPERTY_SOURCE\n",
      "Categories and Counts:\n",
      "0    564\n",
      "1    282\n",
      "2    154\n",
      "Name: PROPERTY_SOURCE, dtype: int64\n",
      "\n",
      "\n",
      "Column: Loan_Purpose1\n",
      "Categories and Counts:\n",
      "2    461\n",
      "1    337\n",
      "3    202\n",
      "Name: Loan_Purpose1, dtype: int64\n",
      "\n",
      "\n",
      "Column: Relationship_Flag\n",
      "Categories and Counts:\n",
      "1    901\n",
      "0     99\n",
      "Name: Relationship_Flag, dtype: int64\n",
      "\n",
      "\n",
      "Column: LOAN_PURPOSE_L2\n",
      "Categories and Counts:\n",
      "0    663\n",
      "1    337\n",
      "Name: LOAN_PURPOSE_L2, dtype: int64\n",
      "\n",
      "\n",
      "None\n"
     ]
    }
   ],
   "source": [
    "# Function for Distinct Variable Category and count\n",
    "columns_list = ['OBS', 'CHK_ACCT', 'DURATION', 'HISTORY', 'AMOUNT', 'SAV_ACCT',\n",
    "       'EMPLOYMENT', 'INSTALL_RATE', 'PRESENT_RESIDENT', 'AGE',\n",
    "       'OTHER_INSTALL', 'NUM_CREDITS', 'JOB', 'NUM_DEPENDENTS', 'TELEPHONE',\n",
    "       'FOREIGN', 'RESPONSE', 'LOAN_PURPOSE', 'GENDER', 'RESIDENTIAL_STATUS',\n",
    "       'APPLICANT_TYPE', 'PROPERTY_SOURCE', 'Loan_Purpose1',\n",
    "       'Relationship_Flag', 'LOAN_PURPOSE_L2']\n",
    "\n",
    "def count_categories(data, columns):\n",
    "    for col in columns:\n",
    "        categories_count = data[col].value_counts()\n",
    "        print(f\"Column: {col}\")\n",
    "        print(\"Categories and Counts:\")\n",
    "        print(categories_count)\n",
    "        print(\"\\n\")\n",
    "        \n",
    "Category_Count = count_categories(df4, columns_list)\n",
    "print(Category_Count)"
   ]
  },
  {
   "cell_type": "code",
   "execution_count": 736,
   "id": "68baac68",
   "metadata": {},
   "outputs": [
    {
     "name": "stdout",
     "output_type": "stream",
     "text": [
      "\n"
     ]
    }
   ],
   "source": [
    "def count_categories(data, columns):\n",
    "    result_df = pd.DataFrame(columns=['Column', 'Category', 'Count'])\n",
    "\n",
    "    for col in columns:\n",
    "        categories_count = data[col].value_counts().reset_index()\n",
    "        categories_count.columns = ['Category', 'Count']\n",
    "        categories_count['Column'] = col\n",
    "        result_df = pd.concat([result_df, categories_count], ignore_index=True)\n",
    "\n",
    "    return result_df\n",
    "\n",
    "# Call the function with your DataFrame and column list\n",
    "result_df = count_categories(df4, columns_list)\n",
    "\n",
    "result_df4 =  result_df.groupby('Column')['Category'].agg(\n",
    "    Distinct_Category='count',\n",
    "    Total='sum',\n",
    "    Average='mean'\n",
    ").reset_index()\n",
    "\n",
    "print()"
   ]
  },
  {
   "cell_type": "code",
   "execution_count": 737,
   "id": "bbb72ff9",
   "metadata": {
    "scrolled": false
   },
   "outputs": [
    {
     "name": "stdout",
     "output_type": "stream",
     "text": [
      "                Column  Distinct_Category    Total      Average Variable_Type\n",
      "0                  AGE                 53     2394    45.169811    Continuous\n",
      "1               AMOUNT                921  3118140  3385.602606    Continuous\n",
      "2       APPLICANT_TYPE                  2        1     0.500000   Categorical\n",
      "3             CHK_ACCT                  4        6     1.500000   Categorical\n",
      "4             DURATION                 33      862    26.121212    Continuous\n",
      "5           EMPLOYMENT                  5       10     2.000000   Categorical\n",
      "6              FOREIGN                  2        1     0.500000   Categorical\n",
      "7               GENDER                  2        1     0.500000   Categorical\n",
      "8              HISTORY                  5       10     2.000000   Categorical\n",
      "9         INSTALL_RATE                  4       10     2.500000   Categorical\n",
      "10                 JOB                  4        6     1.500000   Categorical\n",
      "11        LOAN_PURPOSE                  4        6     1.500000   Categorical\n",
      "12     LOAN_PURPOSE_L2                  2        1     0.500000   Categorical\n",
      "13       Loan_Purpose1                  3        6     2.000000   Categorical\n",
      "14         NUM_CREDITS                  4       10     2.500000   Categorical\n",
      "15      NUM_DEPENDENTS                  2        3     1.500000   Categorical\n",
      "16                 OBS               1000   500500   500.500000    Continuous\n",
      "17       OTHER_INSTALL                  2        1     0.500000   Categorical\n",
      "18    PRESENT_RESIDENT                  4       10     2.500000   Categorical\n",
      "19     PROPERTY_SOURCE                  3        3     1.000000   Categorical\n",
      "20  RESIDENTIAL_STATUS                  3        3     1.000000   Categorical\n",
      "21            RESPONSE                  2        1     0.500000   Categorical\n",
      "22   Relationship_Flag                  2        1     0.500000   Categorical\n",
      "23            SAV_ACCT                  5       10     2.000000   Categorical\n",
      "24           TELEPHONE                  2        1     0.500000   Categorical\n"
     ]
    }
   ],
   "source": [
    "#identification flag\n",
    "def determine_variable_type(row):\n",
    "    if row['Distinct_Category'] <= 5:\n",
    "        return \"Categorical\"\n",
    "    else:\n",
    "        return \"Continuous\"\n",
    "\n",
    "result_df4['Variable_Type'] = result_df4.apply(determine_variable_type, axis=1)\n",
    "print(result_df4)"
   ]
  },
  {
   "cell_type": "markdown",
   "id": "31a189c0",
   "metadata": {},
   "source": [
    "## 4. Data Preparation and Model Development"
   ]
  },
  {
   "cell_type": "code",
   "execution_count": 738,
   "id": "eaf9356c",
   "metadata": {},
   "outputs": [],
   "source": [
    "df5 = df_source.copy()"
   ]
  },
  {
   "cell_type": "code",
   "execution_count": 739,
   "id": "b143a3d1",
   "metadata": {},
   "outputs": [
    {
     "name": "stdout",
     "output_type": "stream",
     "text": [
      "          PCTL_\n",
      "0     250.00000\n",
      "1     425.83000\n",
      "2     638.70000\n",
      "3     708.95000\n",
      "4     932.00000\n",
      "5    1157.55000\n",
      "6    1365.50000\n",
      "7    2319.50000\n",
      "8    3972.25000\n",
      "9    4720.00000\n",
      "10   5969.95000\n",
      "11   7179.40000\n",
      "12   9162.70000\n",
      "13  14180.39000\n",
      "14  15947.47900\n",
      "15  18176.34790\n",
      "16  18399.23479\n",
      "17  18424.00000\n",
      "count     1000.000000\n",
      "mean      3271.258000\n",
      "std       2822.736876\n",
      "min        250.000000\n",
      "25%       1365.500000\n",
      "50%       2319.500000\n",
      "75%       3972.250000\n",
      "max      18424.000000\n",
      "Name: AMOUNT, dtype: float64\n"
     ]
    }
   ],
   "source": [
    "Total_Receivables_Summary = pd.DataFrame({\n",
    "    'PCTL_': np.percentile(df5['AMOUNT'], [0, 1, 3, 5, 10, 15, 25, 50, 75, 80, 85, 90, 95, 99, 99.9, 99.99, 99.999, 100])\n",
    "})\n",
    "# Display the resulting DataFrame\n",
    "print(Total_Receivables_Summary)\n",
    "\n",
    "summary = df5['AMOUNT'].describe()\n",
    "print(summary)"
   ]
  },
  {
   "cell_type": "markdown",
   "id": "1cd24210",
   "metadata": {},
   "source": [
    "##### Observation:\n",
    "                 For Symmetric distibution 99.99% OF THE VALUES TO LIE WITHIN THE LIMITS OF MEAN+-3SIGMA. THE VALUES OUTSIDE THE LIMIT CAN BE TREATED AS OUTLIERS OR EXTREME VALUES. THEY CAN BE INVESTIGATED FOR FURTHER ANALYSIS"
   ]
  },
  {
   "cell_type": "code",
   "execution_count": 740,
   "id": "e0705bd0",
   "metadata": {},
   "outputs": [
    {
     "name": "stdout",
     "output_type": "stream",
     "text": [
      "11739.46862788132\n",
      "-5196.952627881321\n",
      "0\n"
     ]
    }
   ],
   "source": [
    "summary['std']\n",
    "# Calculate Upper Limit\n",
    "Upp_Limit = summary['mean'] + 3 * summary['std']\n",
    "\n",
    "# Calculate Lower Limit\n",
    "Low_Limit = summary['mean'] - 3 * summary['std']\n",
    "\n",
    "# Adjust Lower Limit to be non-negative\n",
    "Low_Limit1 = max(0, Low_Limit)\n",
    "\n",
    "print(Upp_Limit)\n",
    "print(Low_Limit)\n",
    "print(Low_Limit1)"
   ]
  },
  {
   "cell_type": "markdown",
   "id": "7914a2ef",
   "metadata": {},
   "source": [
    "#### Logic :- Accounts with Balances More than 11,739 DM are to be treated Outlier. So Values Above the 95th Percentile are Outlier or Extreme Values. No Extreme Values Behaviour is Observed in the Lower Tail of the Distribution. "
   ]
  },
  {
   "cell_type": "code",
   "execution_count": 741,
   "id": "dd87ab3c",
   "metadata": {},
   "outputs": [
    {
     "data": {
      "image/png": "[encoded data removed]",
      "text/plain": [
       "<Figure size 720x432 with 1 Axes>"
      ]
     },
     "metadata": {},
     "output_type": "display_data"
    },
    {
     "data": {
      "text/plain": [
       "<Figure size 720x432 with 0 Axes>"
      ]
     },
     "execution_count": 741,
     "metadata": {},
     "output_type": "execute_result"
    },
    {
     "data": {
      "text/plain": [
       "<Figure size 720x432 with 0 Axes>"
      ]
     },
     "metadata": {},
     "output_type": "display_data"
    }
   ],
   "source": [
    "plt.figure(figsize=(10, 6))\n",
    "sns.histplot(df4['AMOUNT'], kde=True)\n",
    "plt.title('Amount Distribution')\n",
    "plt.xlabel('Amount')\n",
    "plt.ylabel('Frequency')\n",
    "plt.show()\n",
    "plt.figure(figsize=(10, 6))"
   ]
  },
  {
   "cell_type": "code",
   "execution_count": 742,
   "id": "c151694b",
   "metadata": {},
   "outputs": [
    {
     "name": "stdout",
     "output_type": "stream",
     "text": [
      "<class 'pandas.core.frame.DataFrame'>\n",
      "Int64Index: 25 entries, 18 to 921\n",
      "Data columns (total 32 columns):\n",
      " #   Column            Non-Null Count  Dtype\n",
      "---  ------            --------------  -----\n",
      " 0   OBS               25 non-null     int64\n",
      " 1   CHK_ACCT          25 non-null     int64\n",
      " 2   DURATION          25 non-null     int64\n",
      " 3   HISTORY           25 non-null     int64\n",
      " 4   NEW_CAR           25 non-null     int64\n",
      " 5   USED_CAR          25 non-null     int64\n",
      " 6   FURNITURE         25 non-null     int64\n",
      " 7   RADIO_TV          25 non-null     int64\n",
      " 8   EDUCATION         25 non-null     int64\n",
      " 9   RETRAINING        25 non-null     int64\n",
      " 10  AMOUNT            25 non-null     int64\n",
      " 11  SAV_ACCT          25 non-null     int64\n",
      " 12  EMPLOYMENT        25 non-null     int64\n",
      " 13  INSTALL_RATE      25 non-null     int64\n",
      " 14  MALE_DIV          25 non-null     int64\n",
      " 15  MALE_SINGLE       25 non-null     int64\n",
      " 16  MALE_MAR_or_WID   25 non-null     int64\n",
      " 17  CO_APPLICANT      25 non-null     int64\n",
      " 18  GUARANTOR         25 non-null     int64\n",
      " 19  PRESENT_RESIDENT  25 non-null     int64\n",
      " 20  REAL_ESTATE       25 non-null     int64\n",
      " 21  PROP_UNKN_NONE    25 non-null     int64\n",
      " 22  AGE               25 non-null     int64\n",
      " 23  OTHER_INSTALL     25 non-null     int64\n",
      " 24  RENT              25 non-null     int64\n",
      " 25  OWN_RES           25 non-null     int64\n",
      " 26  NUM_CREDITS       25 non-null     int64\n",
      " 27  JOB               25 non-null     int64\n",
      " 28  NUM_DEPENDENTS    25 non-null     int64\n",
      " 29  TELEPHONE         25 non-null     int64\n",
      " 30  FOREIGN           25 non-null     int64\n",
      " 31  RESPONSE          25 non-null     int64\n",
      "dtypes: int64(32)\n",
      "memory usage: 6.4 KB\n"
     ]
    }
   ],
   "source": [
    "filtered_data_chck = df5[df5['AMOUNT'] > 11739.468628]\n",
    "filtered_data_chck.info()"
   ]
  },
  {
   "cell_type": "markdown",
   "id": "67649739",
   "metadata": {},
   "source": [
    "###### Observation:\n",
    "         There are 25 Observation which are outliers i.e. 2.5% of the Total Base Amount which exceeds \n",
    "         the mean+3*sigma level."
   ]
  },
  {
   "cell_type": "markdown",
   "id": "fc8688e8",
   "metadata": {},
   "source": [
    "###### 4.0 Creation of the Base Data"
   ]
  },
  {
   "cell_type": "code",
   "execution_count": 743,
   "id": "0bb4c3c9",
   "metadata": {},
   "outputs": [],
   "source": [
    "df_final = df_source.copy()"
   ]
  },
  {
   "cell_type": "code",
   "execution_count": 744,
   "id": "03aa9df0",
   "metadata": {},
   "outputs": [],
   "source": [
    "#Base Data and Outlier Data Split\n",
    "df_outlier_data = df_final[df_final['AMOUNT'] > 11739.47]\n",
    "df_base_data = df_final[df_final['AMOUNT'] < 11739.47]"
   ]
  },
  {
   "cell_type": "code",
   "execution_count": 745,
   "id": "5f50191a",
   "metadata": {},
   "outputs": [
    {
     "name": "stdout",
     "output_type": "stream",
     "text": [
      "Frequency Table:\n",
      "1    692\n",
      "0    283\n",
      "Name: RESPONSE, dtype: int64\n",
      "\n",
      "Percentage Table:\n",
      "1    70.974359\n",
      "0    29.025641\n",
      "Name: RESPONSE, dtype: float64\n"
     ]
    }
   ],
   "source": [
    "freq_table = df_base_data['RESPONSE'].value_counts(dropna=False)\n",
    "percentage_table = df_base_data['RESPONSE'].value_counts(normalize=True, dropna=False) * 100\n",
    "\n",
    "# Display frequency table\n",
    "print(\"Frequency Table:\")\n",
    "print(freq_table)\n",
    "\n",
    "# Display percentage table\n",
    "print(\"\\nPercentage Table:\")\n",
    "print(percentage_table)"
   ]
  },
  {
   "cell_type": "markdown",
   "id": "7b72d4e9",
   "metadata": {},
   "source": [
    "###### Observation:\n",
    "###### Overall Bad Rate 29% and Good Rate = 71%. The Removal of the Accounts have Caused the BAD Rates to Decline. "
   ]
  },
  {
   "cell_type": "markdown",
   "id": "1823b054",
   "metadata": {},
   "source": [
    "###### 4.1 Co-Variate Creation"
   ]
  },
  {
   "cell_type": "code",
   "execution_count": 746,
   "id": "2e8ab356",
   "metadata": {},
   "outputs": [],
   "source": [
    "# Create the 'LOAN_PURPOSE' variable\n",
    "df_base_data['LOAN_PURPOSE'] = 0 #Others\n",
    "df_base_data.loc[(df_base_data['NEW_CAR'] == 1) | (df_base_data['USED_CAR'] == 1), 'LOAN_PURPOSE'] = 1  # Automobile Loan\n",
    "df_base_data.loc[(df_base_data['FURNITURE'] == 1) | (df_base_data['RADIO_TV'] == 1), 'LOAN_PURPOSE'] = 2  # Consumption Loan\n",
    "df_base_data.loc[(df_base_data['EDUCATION'] == 1) | (df_base_data['RETRAINING'] == 1), 'LOAN_PURPOSE'] = 3  # Learning and Development Loan\n",
    "\n",
    "# Creating the 'GENDER' variable\n",
    "df_base_data['GENDER'] = 0\n",
    "df_base_data.loc[(df_base_data['MALE_DIV'] == 1) | (df_base_data['MALE_SINGLE'] == 1) | (df_base_data['MALE_MAR_or_WID'] == 1), 'GENDER'] = 1\n",
    "\n",
    "# Creating the 'RESIDENTIAL_STATUS' variable\n",
    "df_base_data['RESIDENTIAL_STATUS'] = 0\n",
    "df_base_data.loc[df_base_data['OWN_RES'] == 1, 'RESIDENTIAL_STATUS'] = 1\n",
    "df_base_data.loc[df_base_data['RENT'] == 1, 'RESIDENTIAL_STATUS'] = 2\n",
    "\n",
    "# Creating the 'APPLICANT_TYPE' variable\n",
    "df_base_data['APPLICANT_TYPE'] = 0\n",
    "df_base_data.loc[(df_base_data['CO_APPLICANT'] == 0) & (df_base_data['GUARANTOR'] == 0), 'APPLICANT_TYPE'] = 1\n",
    "\n",
    "# Creating the 'PROPERTY_SOURCE' variable\n",
    "df_base_data['PROPERTY_SOURCE'] = 0\n",
    "df_base_data.loc[df_base_data['REAL_ESTATE'] == 1, 'PROPERTY_SOURCE'] = 1\n",
    "df_base_data.loc[df_base_data['PROP_UNKN_NONE'] == 1, 'PROPERTY_SOURCE'] = 2"
   ]
  },
  {
   "cell_type": "code",
   "execution_count": 747,
   "id": "e9923fa6",
   "metadata": {},
   "outputs": [],
   "source": [
    "# Dropping the primary component variables\n",
    "df_base_data.drop(['NEW_CAR', 'USED_CAR', 'FURNITURE', 'RADIO_TV', 'EDUCATION', 'RETRAINING', 'MALE_DIV',\n",
    "              'MALE_SINGLE', 'MALE_MAR_or_WID', 'OWN_RES', 'RENT', 'CO_APPLICANT', 'GUARANTOR',\n",
    "              'REAL_ESTATE', 'PROP_UNKN_NONE'], axis=1, inplace=True)"
   ]
  },
  {
   "cell_type": "code",
   "execution_count": 748,
   "id": "8aaeaef9",
   "metadata": {},
   "outputs": [],
   "source": [
    "# Creating the new variable RELATIONSHIP_STATUS\n",
    "df_base_data['RELATIONSHIP_STATUS'] = 0  # Default value\n",
    "\n",
    "# Updating RELATIONSHIP_STATUS based on SAV_ACCT values\n",
    "df_base_data.loc[df_base_data['SAV_ACCT'] == 0, 'RELATIONSHIP_STATUS'] = 0\n",
    "df_base_data.loc[df_base_data['SAV_ACCT'] != 0, 'RELATIONSHIP_STATUS'] = 1"
   ]
  },
  {
   "cell_type": "code",
   "execution_count": 749,
   "id": "8adb0b9a",
   "metadata": {},
   "outputs": [],
   "source": [
    "## 0 - Retail Loan, 1 - Motor Loan\n",
    "df_base_data['LOAN_PURPOSE_L2'] = 1  # Initialize with 1\n",
    "df_base_data.loc[df_base_data['LOAN_PURPOSE'].isin([2, 3, 0]), 'LOAN_PURPOSE_L2'] = 0"
   ]
  },
  {
   "cell_type": "code",
   "execution_count": 750,
   "id": "fce038e7",
   "metadata": {},
   "outputs": [],
   "source": [
    "# Creating the new variable CURR_ACCT_STATUS \n",
    "df_base_data['CURR_ACCT_STATUS'] = 0  # Default value\n",
    "\n",
    "# Updating CURR_ACCT_STATUS based on CHK_ACCT values\n",
    "df_base_data.loc[df_base_data['CHK_ACCT'].isin([0, 1]), 'CURR_ACCT_STATUS'] = 1"
   ]
  },
  {
   "cell_type": "code",
   "execution_count": 751,
   "id": "206ee174",
   "metadata": {},
   "outputs": [],
   "source": [
    "df_base_data.drop(['OBS'], axis=1, inplace=True)"
   ]
  },
  {
   "cell_type": "code",
   "execution_count": 752,
   "id": "81f7b741",
   "metadata": {},
   "outputs": [],
   "source": [
    "df_base_data['Ran_num'] = np.random.rand(len(df_base_data))"
   ]
  },
  {
   "cell_type": "markdown",
   "id": "2ee7916a",
   "metadata": {},
   "source": [
    "###### 4.2 Data Split for Test & Training "
   ]
  },
  {
   "cell_type": "code",
   "execution_count": 753,
   "id": "c627ae46",
   "metadata": {},
   "outputs": [],
   "source": [
    "model_development = df_base_data[df_base_data['Ran_num'] <= 0.7]\n",
    "model_validation = df_base_data[df_base_data['Ran_num'] > 0.7]"
   ]
  },
  {
   "cell_type": "code",
   "execution_count": 754,
   "id": "10c9c561",
   "metadata": {},
   "outputs": [
    {
     "data": {
      "text/plain": [
       "(680, 25)"
      ]
     },
     "execution_count": 754,
     "metadata": {},
     "output_type": "execute_result"
    }
   ],
   "source": [
    "model_development.shape"
   ]
  },
  {
   "cell_type": "code",
   "execution_count": 755,
   "id": "cedce4e9",
   "metadata": {},
   "outputs": [
    {
     "data": {
      "text/plain": [
       "(295, 25)"
      ]
     },
     "execution_count": 755,
     "metadata": {},
     "output_type": "execute_result"
    }
   ],
   "source": [
    "model_validation.shape"
   ]
  },
  {
   "cell_type": "markdown",
   "id": "72bbe867",
   "metadata": {},
   "source": [
    "###### 4.3 Bad Rate Distribution for Development and Validation Samples"
   ]
  },
  {
   "cell_type": "code",
   "execution_count": 756,
   "id": "271f603b",
   "metadata": {},
   "outputs": [
    {
     "name": "stdout",
     "output_type": "stream",
     "text": [
      "Frequency and Percentage analysis for Model_Development:\n",
      "   Frequency  Percentage\n",
      "1        486   71.470588\n",
      "0        194   28.529412\n",
      "\n",
      "Frequency and Percentage analysis for Model_Validation:\n",
      "   Frequency  Percentage\n",
      "1        206   69.830508\n",
      "0         89   30.169492\n"
     ]
    }
   ],
   "source": [
    "# Frequency and percentage analysis for Model_Development\n",
    "freq_model_development = model_development['RESPONSE'].value_counts(dropna=False)\n",
    "percent_model_development = model_development['RESPONSE'].value_counts(normalize=True, dropna=False) * 100\n",
    "\n",
    "result_model_development = pd.DataFrame({\n",
    "    'Frequency': freq_model_development,\n",
    "    'Percentage': percent_model_development\n",
    "})\n",
    "\n",
    "print(\"Frequency and Percentage analysis for Model_Development:\")\n",
    "print(result_model_development)\n",
    "\n",
    "# Frequency and percentage analysis for Model_Validation\n",
    "freq_model_validation = model_validation['RESPONSE'].value_counts(dropna=False)\n",
    "percent_model_validation = model_validation['RESPONSE'].value_counts(normalize=True, dropna=False) * 100\n",
    "\n",
    "\n",
    "result_model_validation = pd.DataFrame({\n",
    "    'Frequency': freq_model_validation,\n",
    "    'Percentage': percent_model_validation\n",
    "})\n",
    "\n",
    "print(\"\\nFrequency and Percentage analysis for Model_Validation:\")\n",
    "print(result_model_validation)\n"
   ]
  },
  {
   "cell_type": "code",
   "execution_count": 757,
   "id": "25387661",
   "metadata": {},
   "outputs": [],
   "source": [
    "response_good = df_base_data[df_base_data['RESPONSE'] == 1].copy()\n",
    "response_bad = df_base_data[df_base_data['RESPONSE'] != 1].copy()"
   ]
  },
  {
   "cell_type": "code",
   "execution_count": 758,
   "id": "b712d268",
   "metadata": {},
   "outputs": [],
   "source": [
    "def split_data(response_df, response):\n",
    "    response_df['ran_num'] = np.random.rand(len(response_df))\n",
    "    \n",
    "    # Creating development and validation DataFrames\n",
    "    dev_response = response_df[response_df['ran_num'] <= 0.7].copy()\n",
    "    val_response = response_df[response_df['ran_num'] > 0.7].copy()\n",
    "    \n",
    "    # Optional: Resetting index if needed\n",
    "    dev_response.reset_index(drop=True, inplace=True)\n",
    "    val_response.reset_index(drop=True, inplace=True)\n",
    "    \n",
    "    return dev_response, val_response"
   ]
  },
  {
   "cell_type": "code",
   "execution_count": 759,
   "id": "9005fa21",
   "metadata": {},
   "outputs": [],
   "source": [
    "dev_good, val_good = split_data(response_good, 'Good')\n",
    "dev_bad, val_bad = split_data(response_bad, 'Bad')"
   ]
  },
  {
   "cell_type": "code",
   "execution_count": 760,
   "id": "6caca1d5",
   "metadata": {},
   "outputs": [],
   "source": [
    "model_development = pd.concat([dev_good, dev_bad], ignore_index=True)\n",
    "model_validation = pd.concat([val_good, val_bad], ignore_index=True)"
   ]
  },
  {
   "cell_type": "code",
   "execution_count": 761,
   "id": "ec0fcbd1",
   "metadata": {},
   "outputs": [
    {
     "name": "stdout",
     "output_type": "stream",
     "text": [
      "Frequency and Percentage analysis for Model_Development:\n",
      "   Frequency  Percentage\n",
      "1        477    70.56213\n",
      "0        199    29.43787\n",
      "\n",
      "Frequency and Percentage analysis for Model_Validation:\n",
      "   Frequency  Percentage\n",
      "1        215   71.906355\n",
      "0         84   28.093645\n"
     ]
    }
   ],
   "source": [
    "# Frequency and percentage analysis for Model_Development\n",
    "freq_model_development = model_development['RESPONSE'].value_counts(dropna=False)\n",
    "percent_model_development = model_development['RESPONSE'].value_counts(normalize=True, dropna=False) * 100\n",
    "\n",
    "result_model_development = pd.DataFrame({\n",
    "    'Frequency': freq_model_development,\n",
    "    'Percentage': percent_model_development\n",
    "})\n",
    "\n",
    "print(\"Frequency and Percentage analysis for Model_Development:\")\n",
    "print(result_model_development)\n",
    "\n",
    "# Frequency and percentage analysis for Model_Validation\n",
    "freq_model_validation = model_validation['RESPONSE'].value_counts(dropna=False)\n",
    "percent_model_validation = model_validation['RESPONSE'].value_counts(normalize=True, dropna=False) * 100\n",
    "\n",
    "result_model_validation = pd.DataFrame({\n",
    "    'Frequency': freq_model_validation,\n",
    "    'Percentage': percent_model_validation\n",
    "})\n",
    "\n",
    "print(\"\\nFrequency and Percentage analysis for Model_Validation:\")\n",
    "print(result_model_validation)"
   ]
  },
  {
   "cell_type": "markdown",
   "id": "e7473a87",
   "metadata": {},
   "source": [
    "###### Observation:\n",
    "                Stratifying based on the response variable ensures that the distribution of bad rates in\n",
    "                both the development and validation samples is more reflective of the overall\n",
    "                population's Good/bad rate. Intially, at the pre-processing level, It is 70% Good and 30% Bad. "
   ]
  },
  {
   "cell_type": "markdown",
   "id": "29f1d945",
   "metadata": {},
   "source": [
    "###### 4.4  Test of Significance"
   ]
  },
  {
   "cell_type": "code",
   "execution_count": 762,
   "id": "99f10fb6",
   "metadata": {},
   "outputs": [
    {
     "name": "stdout",
     "output_type": "stream",
     "text": [
      "                     Chi2 Statistic  Degrees of Freedom       P-value  \\\n",
      "Variable                                                                \n",
      "APPLICANT_TYPE             1.296532                   1  2.548477e-01   \n",
      "CHK_ACCT                  91.491678                   3  1.047458e-19   \n",
      "CURR_ACCT_STATUS          79.370336                   1  5.149348e-19   \n",
      "DURATION                  63.050886                  31  5.808631e-04   \n",
      "EMPLOYMENT                15.434142                   4  3.880514e-03   \n",
      "FOREIGN                    2.317991                   1  1.278851e-01   \n",
      "GENDER                     7.781353                   1  5.278825e-03   \n",
      "HISTORY                   41.708459                   4  1.917162e-08   \n",
      "INSTALL_RATE               5.599482                   3  1.328081e-01   \n",
      "JOB                        2.035307                   3  5.651111e-01   \n",
      "LOAN_PURPOSE               3.910097                   3  2.713371e-01   \n",
      "LOAN_PURPOSE_L2            0.001361                   1  9.705744e-01   \n",
      "NUM_CREDITS                0.372043                   3  9.459553e-01   \n",
      "NUM_DEPENDENTS             0.085090                   1  7.705152e-01   \n",
      "OTHER_INSTALL             17.689260                   1  2.600909e-05   \n",
      "PRESENT_RESIDENT           1.864955                   3  6.009029e-01   \n",
      "PROPERTY_SOURCE           12.360140                   2  2.070283e-03   \n",
      "RELATIONSHIP_STATUS       12.721944                   1  3.613898e-04   \n",
      "RESIDENTIAL_STATUS        14.959211                   2  5.644801e-04   \n",
      "SAV_ACCT                  19.208432                   4  7.151884e-04   \n",
      "\n",
      "                        Significance  \n",
      "Variable                              \n",
      "APPLICANT_TYPE       not significant  \n",
      "CHK_ACCT                 significant  \n",
      "CURR_ACCT_STATUS         significant  \n",
      "DURATION                 significant  \n",
      "EMPLOYMENT               significant  \n",
      "FOREIGN              not significant  \n",
      "GENDER                   significant  \n",
      "HISTORY                  significant  \n",
      "INSTALL_RATE         not significant  \n",
      "JOB                  not significant  \n",
      "LOAN_PURPOSE         not significant  \n",
      "LOAN_PURPOSE_L2      not significant  \n",
      "NUM_CREDITS          not significant  \n",
      "NUM_DEPENDENTS       not significant  \n",
      "OTHER_INSTALL            significant  \n",
      "PRESENT_RESIDENT     not significant  \n",
      "PROPERTY_SOURCE          significant  \n",
      "RELATIONSHIP_STATUS      significant  \n",
      "RESIDENTIAL_STATUS       significant  \n",
      "SAV_ACCT                 significant  \n"
     ]
    }
   ],
   "source": [
    "def chi_square_test(df, variable, response_variable):\n",
    "    contingency_table = pd.crosstab(df[variable], df[response_variable])\n",
    "    chi2_stat, p_value, dof, expected = chi2_contingency(contingency_table)\n",
    "\n",
    "    significance = \"significant\" if p_value < 0.05 else \"not significant\"\n",
    "\n",
    "    result_dict = {\n",
    "        'Variable': [variable],\n",
    "        'Chi2 Statistic': [chi2_stat],\n",
    "        'P-value': [p_value],\n",
    "        'Degrees of Freedom': [dof],\n",
    "        'Significance': [significance]\n",
    "    }\n",
    "\n",
    "    result_df = pd.DataFrame(result_dict)\n",
    "\n",
    "    return result_df\n",
    "\n",
    "\n",
    "Var = ['CHK_ACCT', 'DURATION', 'HISTORY', 'SAV_ACCT', 'EMPLOYMENT',\n",
    "       'INSTALL_RATE', 'PRESENT_RESIDENT', 'OTHER_INSTALL',\n",
    "       'NUM_CREDITS', 'JOB', 'NUM_DEPENDENTS', 'FOREIGN',\n",
    "       'LOAN_PURPOSE', 'GENDER', 'RESIDENTIAL_STATUS',\n",
    "       'APPLICANT_TYPE', 'PROPERTY_SOURCE', 'RELATIONSHIP_STATUS',\n",
    "       'LOAN_PURPOSE_L2', 'CURR_ACCT_STATUS']\n",
    "\n",
    "response_variable = 'RESPONSE'\n",
    "\n",
    "results_df = pd.DataFrame()\n",
    "\n",
    "# Iterate through variables and perform the Chi-square test\n",
    "for variable in Var:\n",
    "    result_df = chi_square_test(model_development, variable, response_variable)\n",
    "    results_df = pd.concat([results_df, result_df], ignore_index=True)\n",
    "\n",
    "results_df['Significance'] = results_df['P-value'].apply(lambda p: \"significant\" if p < 0.05 else \"not significant\")\n",
    "\n",
    "pivot_table = results_df.pivot_table(index='Variable', values=['Chi2 Statistic', 'P-value', 'Degrees of Freedom', 'Significance'],\n",
    "                                     aggfunc={'Chi2 Statistic': 'mean', 'P-value': 'mean', 'Degrees of Freedom': 'mean', 'Significance': lambda x: x.iloc[0]})\n",
    "print(pivot_table)\n"
   ]
  },
  {
   "cell_type": "markdown",
   "id": "128a42bb",
   "metadata": {},
   "source": [
    "###### Observation:\n",
    "            As per Chi- Square analysis, following Variable are not significant, Applicant Type, Foreign, Install Rate, Job, Loan Purpose L2, Num Credit, No. of Dependent, Present Resident Etc."
   ]
  },
  {
   "cell_type": "code",
   "execution_count": 763,
   "id": "024a1874",
   "metadata": {},
   "outputs": [],
   "source": [
    "model_development.drop(['TELEPHONE','Ran_num', 'ran_num'], inplace= True, axis=1)"
   ]
  },
  {
   "cell_type": "markdown",
   "id": "92960ac2",
   "metadata": {},
   "source": [
    "###### 4.5 Information Value and Weight of Evidence "
   ]
  },
  {
   "cell_type": "code",
   "execution_count": 764,
   "id": "3b0c9c3e",
   "metadata": {},
   "outputs": [
    {
     "name": "stdout",
     "output_type": "stream",
     "text": [
      "                   Name\n",
      "0              CHK_ACCT\n",
      "1              DURATION\n",
      "2               HISTORY\n",
      "3                AMOUNT\n",
      "4              SAV_ACCT\n",
      "5            EMPLOYMENT\n",
      "6          INSTALL_RATE\n",
      "7      PRESENT_RESIDENT\n",
      "8                   AGE\n",
      "9         OTHER_INSTALL\n",
      "10          NUM_CREDITS\n",
      "11                  JOB\n",
      "12       NUM_DEPENDENTS\n",
      "13              FOREIGN\n",
      "14             RESPONSE\n",
      "15         LOAN_PURPOSE\n",
      "16               GENDER\n",
      "17   RESIDENTIAL_STATUS\n",
      "18       APPLICANT_TYPE\n",
      "19      PROPERTY_SOURCE\n",
      "20  RELATIONSHIP_STATUS\n",
      "21      LOAN_PURPOSE_L2\n",
      "22     CURR_ACCT_STATUS\n"
     ]
    }
   ],
   "source": [
    "German_Bank_data_Base = pd.DataFrame(model_development)\n",
    "variable_names = German_Bank_data_Base.columns.tolist()\n",
    "WOE_IV_Variable_List = pd.DataFrame({'Name': variable_names})\n",
    "print(WOE_IV_Variable_List)"
   ]
  },
  {
   "cell_type": "code",
   "execution_count": 765,
   "id": "1fbd9fa6",
   "metadata": {},
   "outputs": [],
   "source": [
    "exclude_variables = [\"AGE\", \"AMOUNT\",\"DURATION\", \"RESPONSE\"]\n",
    "filtered_variables = WOE_IV_Variable_List[~WOE_IV_Variable_List['Name'].isin(exclude_variables)]"
   ]
  },
  {
   "cell_type": "code",
   "execution_count": 766,
   "id": "7beb629d",
   "metadata": {},
   "outputs": [],
   "source": [
    "def calculate_woe_iv(data, var, response_col='RESPONSE'):\n",
    "    df = data[[var, response_col]].copy()\n",
    "    total_good = df[df[response_col] == 1].shape[0]\n",
    "    total_bad = df[df[response_col] == 0].shape[0]\n",
    "\n",
    "    # Calculate WOE and IV\n",
    "    woe_iv_summary = pd.DataFrame(columns=['VARNAME', 'CATEGORY', 'GOOD', 'BAD', 'WOE', 'IV'])\n",
    "    \n",
    "    for category in df[var].unique():\n",
    "        subset = df[df[var] == category]\n",
    "        good = subset[subset[response_col] == 1].shape[0]\n",
    "        bad = subset[subset[response_col] == 0].shape[0]\n",
    "\n",
    "        # Check for division by zero\n",
    "        if total_good == 0 or total_bad == 0 or good == 0 or bad == 0:\n",
    "            woe = 0\n",
    "            diff_good_bad_dist = 0\n",
    "            iv_category = 0\n",
    "        else:\n",
    "            woe = np.log((good / total_good) / (bad / total_bad))\n",
    "            diff_good_bad_dist = (good / total_good) - (bad / total_bad)\n",
    "            iv_category = diff_good_bad_dist * woe\n",
    "\n",
    "        woe_iv_summary = woe_iv_summary.append({\n",
    "            'VARNAME': var,\n",
    "            'CATEGORY': category,\n",
    "            'GOOD': good,\n",
    "            'BAD': bad,\n",
    "            'WOE': woe,\n",
    "            'IV': iv_category\n",
    "        }, ignore_index=True)\n",
    "\n",
    "    return woe_iv_summary\n",
    "\n",
    "# Iterate through variables and calculate WOE and IV\n",
    "woe_iv_summary_list = []\n",
    "for var in filtered_variables['Name']:\n",
    "    woe_iv_summary_list.append(calculate_woe_iv(German_Bank_data_Base, var))\n",
    "\n",
    "woe_iv_summary_combined = pd.concat(woe_iv_summary_list, ignore_index=True)\n",
    "iv_summary = woe_iv_summary_combined.groupby('VARNAME')['IV'].sum().reset_index()\n",
    "iv_summary['IV'] = iv_summary['IV'].round(2)"
   ]
  },
  {
   "cell_type": "code",
   "execution_count": 767,
   "id": "ffa4bf67",
   "metadata": {},
   "outputs": [
    {
     "name": "stdout",
     "output_type": "stream",
     "text": [
      "                VARNAME    IV      Pred_Capacity\n",
      "0        APPLICANT_TYPE  0.01     NOT_PREDICTIVE\n",
      "1              CHK_ACCT  0.72  HIGHLY_PREDICTIVE\n",
      "2      CURR_ACCT_STATUS  0.65  HIGHLY_PREDICTIVE\n",
      "3            EMPLOYMENT  0.11  HIGHLY_PREDICTIVE\n",
      "4               FOREIGN  0.03         PREDICTIVE\n",
      "5                GENDER  0.06         PREDICTIVE\n",
      "6               HISTORY  0.29  HIGHLY_PREDICTIVE\n",
      "7          INSTALL_RATE  0.04         PREDICTIVE\n",
      "8                   JOB  0.02     NOT_PREDICTIVE\n",
      "9          LOAN_PURPOSE  0.03         PREDICTIVE\n",
      "10      LOAN_PURPOSE_L2  0.00     NOT_PREDICTIVE\n",
      "11          NUM_CREDITS  0.00     NOT_PREDICTIVE\n",
      "12       NUM_DEPENDENTS  0.00     NOT_PREDICTIVE\n",
      "13        OTHER_INSTALL  0.12  HIGHLY_PREDICTIVE\n",
      "14     PRESENT_RESIDENT  0.01     NOT_PREDICTIVE\n",
      "15      PROPERTY_SOURCE  0.09         PREDICTIVE\n",
      "16  RELATIONSHIP_STATUS  0.10  HIGHLY_PREDICTIVE\n",
      "17   RESIDENTIAL_STATUS  0.10  HIGHLY_PREDICTIVE\n",
      "18             SAV_ACCT  0.16  HIGHLY_PREDICTIVE\n"
     ]
    }
   ],
   "source": [
    "#function to determine variable acceptance/rejection decision\n",
    "def determine_pred_capacity(iv):\n",
    "    if iv < 0.03:\n",
    "        return \"NOT_PREDICTIVE\"\n",
    "    elif iv < 0.10:\n",
    "        return \"PREDICTIVE\"\n",
    "    else:\n",
    "        return \"HIGHLY_PREDICTIVE\"\n",
    "\n",
    "iv_summary['Pred_Capacity'] = iv_summary['IV'].apply(determine_pred_capacity)\n",
    "print(iv_summary)"
   ]
  },
  {
   "cell_type": "markdown",
   "id": "e1793259",
   "metadata": {},
   "source": [
    "###### Observation:\n",
    "                  Information Value less than 0.03 is Categorised as 'Non-Predictive' and Information Value greater 0.03 but less than 0.10 is Categoried as \"Predictive\" and IV Value greater than 0.10 is Marked with \"High Predictive\" Etc. As per analysis, Check Account Variable is highly Scored and has IV value of 0.64.  "
   ]
  },
  {
   "cell_type": "markdown",
   "id": "43a43832",
   "metadata": {},
   "source": [
    "###### 4.6 Logistic Regression "
   ]
  },
  {
   "cell_type": "code",
   "execution_count": 768,
   "id": "a1e9a484",
   "metadata": {},
   "outputs": [],
   "source": [
    "model_development.drop(['APPLICANT_TYPE','JOB','LOAN_PURPOSE_L2','NUM_CREDITS','NUM_DEPENDENTS','PRESENT_RESIDENT'], inplace= True, axis=1)"
   ]
  },
  {
   "cell_type": "code",
   "execution_count": 769,
   "id": "430c30c6",
   "metadata": {},
   "outputs": [],
   "source": [
    "mod_vars = ['CHK_ACCT', 'DURATION', 'HISTORY', 'AMOUNT', 'SAV_ACCT', 'EMPLOYMENT',\n",
    "       'INSTALL_RATE', 'AGE', 'OTHER_INSTALL', 'FOREIGN', 'RESPONSE',\n",
    "       'LOAN_PURPOSE', 'GENDER', 'RESIDENTIAL_STATUS', 'PROPERTY_SOURCE',\n",
    "       'RELATIONSHIP_STATUS', 'CURR_ACCT_STATUS']"
   ]
  },
  {
   "cell_type": "code",
   "execution_count": 770,
   "id": "c2e44307",
   "metadata": {},
   "outputs": [],
   "source": [
    "X = add_constant(model_development[mod_vars[:-1]])\n",
    "y = model_development['RESPONSE']"
   ]
  },
  {
   "cell_type": "code",
   "execution_count": 771,
   "id": "7321cb0e",
   "metadata": {},
   "outputs": [
    {
     "name": "stdout",
     "output_type": "stream",
     "text": [
      "[[ 0.00000000e+00  0.00000000e+00 -4.35778767e-02  0.00000000e+00\n",
      "  -1.14278631e-04  0.00000000e+00  0.00000000e+00 -3.92862029e-01\n",
      "  -6.24687767e-02  0.00000000e+00  0.00000000e+00  1.17125442e+01\n",
      "  -8.82331126e-02  0.00000000e+00 -2.74190569e-01  0.00000000e+00\n",
      "   0.00000000e+00]]\n"
     ]
    }
   ],
   "source": [
    "model = LogisticRegression(penalty='l1', solver='liblinear')\n",
    "result = model.fit(X, y)\n",
    "print(result.coef_)"
   ]
  },
  {
   "cell_type": "code",
   "execution_count": 772,
   "id": "d4d1b359",
   "metadata": {},
   "outputs": [
    {
     "name": "stdout",
     "output_type": "stream",
     "text": [
      "Accuracy: 100.00%\n"
     ]
    }
   ],
   "source": [
    "X = add_constant(X[mod_vars[:-1]])\n",
    "\n",
    "# Predict the response variable for the test set\n",
    "y_pred = result.predict(X)\n",
    "y_pred_binary = (y_pred > 0.5).astype(int)\n",
    "\n",
    "# Calculate accuracy\n",
    "accuracy = accuracy_score(y, y_pred_binary)\n",
    "\n",
    "print(f\"Accuracy: {accuracy * 100:.2f}%\")"
   ]
  },
  {
   "cell_type": "markdown",
   "id": "19330edc",
   "metadata": {},
   "source": [
    "###### 4.7 precision, recall, and F1 score in Model Development Dataset"
   ]
  },
  {
   "cell_type": "code",
   "execution_count": 773,
   "id": "89a3adb3",
   "metadata": {},
   "outputs": [
    {
     "name": "stdout",
     "output_type": "stream",
     "text": [
      "Precision: 1.0000\n",
      "Recall: 1.0000\n",
      "F1 Score: 1.0000\n"
     ]
    }
   ],
   "source": [
    "precision = precision_score(y, y_pred_binary)\n",
    "recall = recall_score(y, y_pred_binary)\n",
    "f1 = f1_score(y, y_pred_binary)\n",
    "\n",
    "print(f\"Precision: {precision:.4f}\")\n",
    "print(f\"Recall: {recall:.4f}\")\n",
    "print(f\"F1 Score: {f1:.4f}\")"
   ]
  },
  {
   "cell_type": "code",
   "execution_count": 774,
   "id": "61365994",
   "metadata": {},
   "outputs": [
    {
     "name": "stdout",
     "output_type": "stream",
     "text": [
      "Confusion Matrix:\n",
      "[[199   0]\n",
      " [  0 477]]\n"
     ]
    }
   ],
   "source": [
    "cm = confusion_matrix(y, y_pred_binary)\n",
    "print(f\"Confusion Matrix:\\n{cm}\")"
   ]
  },
  {
   "cell_type": "markdown",
   "id": "81d391e1",
   "metadata": {},
   "source": [
    "###### 4.8 # ROC Curve and AUC in Model Development Dataset"
   ]
  },
  {
   "cell_type": "code",
   "execution_count": 775,
   "id": "a9803c88",
   "metadata": {
    "scrolled": false
   },
   "outputs": [
    {
     "data": {
      "image/png": "[encoded data removed]",
      "text/plain": [
       "<Figure size 576x432 with 1 Axes>"
      ]
     },
     "metadata": {},
     "output_type": "display_data"
    }
   ],
   "source": [
    "fpr, tpr, thresholds = roc_curve(y, y_pred)\n",
    "roc_auc = auc(fpr, tpr)\n",
    "\n",
    "plt.figure(figsize=(8, 6))\n",
    "plt.plot(fpr, tpr, color='darkorange', lw=2, label=f'ROC curve (AUC = {roc_auc:.2f})')\n",
    "plt.plot([0, 1], [0, 1], color='navy', lw=2, linestyle='--')\n",
    "plt.xlabel('False Positive Rate')\n",
    "plt.ylabel('True Positive Rate')\n",
    "plt.title('ROC Curve')\n",
    "plt.legend(loc='lower right')\n",
    "plt.show()"
   ]
  },
  {
   "cell_type": "markdown",
   "id": "dc7403ea",
   "metadata": {},
   "source": [
    "###### 4.9 Logistic Regression in Model Validation Dataset"
   ]
  },
  {
   "cell_type": "code",
   "execution_count": 776,
   "id": "438e7d76",
   "metadata": {},
   "outputs": [],
   "source": [
    "model_validation.drop(['APPLICANT_TYPE','JOB','LOAN_PURPOSE_L2','NUM_CREDITS','NUM_DEPENDENTS','PRESENT_RESIDENT','Ran_num', 'ran_num','TELEPHONE'], inplace= True, axis=1)"
   ]
  },
  {
   "cell_type": "code",
   "execution_count": 777,
   "id": "07c8cdee",
   "metadata": {},
   "outputs": [
    {
     "data": {
      "text/plain": [
       "Index(['CHK_ACCT', 'DURATION', 'HISTORY', 'AMOUNT', 'SAV_ACCT', 'EMPLOYMENT',\n",
       "       'INSTALL_RATE', 'AGE', 'OTHER_INSTALL', 'FOREIGN', 'RESPONSE',\n",
       "       'LOAN_PURPOSE', 'GENDER', 'RESIDENTIAL_STATUS', 'PROPERTY_SOURCE',\n",
       "       'RELATIONSHIP_STATUS', 'CURR_ACCT_STATUS'],\n",
       "      dtype='object')"
      ]
     },
     "execution_count": 777,
     "metadata": {},
     "output_type": "execute_result"
    }
   ],
   "source": [
    "model_validation.columns"
   ]
  },
  {
   "cell_type": "code",
   "execution_count": 779,
   "id": "5f9f21b2",
   "metadata": {},
   "outputs": [
    {
     "name": "stdout",
     "output_type": "stream",
     "text": [
      "VIF: 1.2789967253811845\n",
      "                            OLS Regression Results                            \n",
      "==============================================================================\n",
      "Dep. Variable:               RESPONSE   R-squared:                       0.218\n",
      "Model:                            OLS   Adj. R-squared:                  0.177\n",
      "Method:                 Least Squares   F-statistic:                     5.264\n",
      "Date:                Sun, 10 Dec 2023   Prob (F-statistic):           2.73e-09\n",
      "Time:                        19:37:40   Log-Likelihood:                -148.36\n",
      "No. Observations:                 299   AIC:                             328.7\n",
      "Df Residuals:                     283   BIC:                             387.9\n",
      "Df Model:                          15                                         \n",
      "Covariance Type:            nonrobust                                         \n",
      "=======================================================================================\n",
      "                          coef    std err          t      P>|t|      [0.025      0.975]\n",
      "---------------------------------------------------------------------------------------\n",
      "const                   0.2867      0.182      1.574      0.117      -0.072       0.645\n",
      "CHK_ACCT                0.0887      0.020      4.356      0.000       0.049       0.129\n",
      "DURATION               -0.0019      0.003     -0.654      0.514      -0.008       0.004\n",
      "HISTORY                 0.0594      0.023      2.551      0.011       0.014       0.105\n",
      "AMOUNT              -8.916e-06   1.68e-05     -0.531      0.596   -4.19e-05    2.41e-05\n",
      "SAV_ACCT                0.0424      0.031      1.390      0.166      -0.018       0.102\n",
      "EMPLOYMENT             -0.0117      0.022     -0.522      0.602      -0.056       0.032\n",
      "INSTALL_RATE           -0.0442      0.025     -1.779      0.076      -0.093       0.005\n",
      "AGE                     0.0079      0.002      3.158      0.002       0.003       0.013\n",
      "OTHER_INSTALL           0.0378      0.063      0.602      0.547      -0.086       0.161\n",
      "FOREIGN                 0.2077      0.121      1.712      0.088      -0.031       0.446\n",
      "LOAN_PURPOSE           -0.0241      0.031     -0.788      0.431      -0.084       0.036\n",
      "GENDER                  0.0455      0.056      0.811      0.418      -0.065       0.156\n",
      "RESIDENTIAL_STATUS      0.0586      0.061      0.967      0.334      -0.061       0.178\n",
      "PROPERTY_SOURCE        -0.0281      0.037     -0.751      0.454      -0.102       0.046\n",
      "RELATIONSHIP_STATUS    -0.0184      0.096     -0.192      0.848      -0.208       0.171\n",
      "==============================================================================\n",
      "Omnibus:                       41.153   Durbin-Watson:                   0.465\n",
      "Prob(Omnibus):                  0.000   Jarque-Bera (JB):               26.113\n",
      "Skew:                          -0.593   Prob(JB):                     2.14e-06\n",
      "Kurtosis:                       2.170   Cond. No.                     2.79e+04\n",
      "==============================================================================\n",
      "\n",
      "Notes:\n",
      "[1] Standard Errors assume that the covariance matrix of the errors is correctly specified.\n",
      "[2] The condition number is large, 2.79e+04. This might indicate that there are\n",
      "strong multicollinearity or other numerical problems.\n"
     ]
    }
   ],
   "source": [
    "mod_vars_v_selc = ['CHK_ACCT', 'DURATION', 'HISTORY', 'AMOUNT', 'SAV_ACCT', 'EMPLOYMENT',\n",
    "                        'INSTALL_RATE', 'AGE', 'OTHER_INSTALL', 'FOREIGN',\n",
    "                     'LOAN_PURPOSE', 'GENDER', 'RESIDENTIAL_STATUS', 'PROPERTY_SOURCE',\n",
    "                      'RELATIONSHIP_STATUS', 'CURR_ACCT_STATUS']\n",
    "\n",
    "# Logistic Regression\n",
    "X = add_constant(model_validation[mod_vars_v_selc[:-1]])\n",
    "y = model_validation['RESPONSE']\n",
    "\n",
    "model_logistic = LogisticRegression()\n",
    "result_logistic = model_logistic.fit(X, y)\n",
    "\n",
    "# Output predicted probabilities and ROC summary\n",
    "model_validation['predicted'] = result_logistic.predict_proba(X)[:, 1]\n",
    "roc_summary_dev = pd.DataFrame({'Response': model_validation['RESPONSE'], 'Predicted': model_validation['predicted']})\n",
    "\n",
    "# OLS Regression for VIF calculation\n",
    "X_ols = add_constant(model_validation[mod_vars_v_selc[:-1]])\n",
    "y_ols = model_validation['RESPONSE']\n",
    "\n",
    "model_ols = linear_model.OLS(y_ols, X_ols)\n",
    "result_ols = model_ols.fit()\n",
    "\n",
    "# Calculate VIF\n",
    "vif = 1 / (1 - result_ols.rsquared)\n",
    "print(f\"VIF: {vif}\")\n",
    "\n",
    "# Display model summary\n",
    "print(result_ols.summary())"
   ]
  },
  {
   "cell_type": "code",
   "execution_count": 794,
   "id": "0211196e",
   "metadata": {},
   "outputs": [
    {
     "data": {
      "image/png": "[encoded data removed]",
      "text/plain": [
       "<Figure size 432x288 with 1 Axes>"
      ]
     },
     "metadata": {},
     "output_type": "display_data"
    },
    {
     "name": "stdout",
     "output_type": "stream",
     "text": [
      "Model Accuracy: 76.25%\n"
     ]
    }
   ],
   "source": [
    "predicted_classes = (model_validation['predicted'] > 0.5).astype(int)\n",
    "accuracy = accuracy_score(model_validation['RESPONSE'], predicted_classes)\n",
    "\n",
    "\n",
    "# Confusion Matrix\n",
    "conf_matrix = confusion_matrix(model_validation['RESPONSE'], predicted_classes)\n",
    "sns.heatmap(conf_matrix, annot=True, fmt='g', cmap='Blues', cbar=False,\n",
    "            xticklabels=['Predicted 0', 'Predicted 1'],\n",
    "            yticklabels=['Actual 0', 'Actual 1'])\n",
    "plt.xlabel('Predicted Label')\n",
    "plt.ylabel('True Label')\n",
    "plt.title('Confusion Matrix')\n",
    "plt.show()\n",
    "\n",
    "print(f\"Model Accuracy: {accuracy * 100:.2f}%\")"
   ]
  },
  {
   "cell_type": "code",
   "execution_count": 795,
   "id": "1d074e76",
   "metadata": {},
   "outputs": [
    {
     "data": {
      "image/png": "[encoded data removed]",
      "text/plain": [
       "<Figure size 720x432 with 1 Axes>"
      ]
     },
     "metadata": {},
     "output_type": "display_data"
    }
   ],
   "source": [
    "roc_summary_dev = pd.DataFrame({'Response': model_validation['RESPONSE'], 'Predicted': model_validation['predicted']})\n",
    "\n",
    "# ROC Curve\n",
    "fpr, tpr, thresholds = roc_curve(roc_summary_dev['Response'], roc_summary_dev['Predicted'])\n",
    "roc_auc = roc_auc_score(roc_summary_dev['Response'], roc_summary_dev['Predicted'])\n",
    "\n",
    "plt.figure(figsize=(10, 6))\n",
    "plt.plot(fpr, tpr, color='darkorange', lw=2, label=f'ROC Curve (AUC = {roc_auc:.2f})')\n",
    "plt.plot([0, 1], [0, 1], color='navy', lw=2, linestyle='--')\n",
    "plt.xlabel('False Positive Rate')\n",
    "plt.ylabel('True Positive Rate')\n",
    "plt.title('(ROC) Curve')\n",
    "plt.legend(loc='lower right')\n",
    "plt.show()"
   ]
  },
  {
   "cell_type": "code",
   "execution_count": null,
   "id": "cb94a194",
   "metadata": {},
   "outputs": [],
   "source": []
  }
 ],
 "metadata": {
  "kernelspec": {
   "display_name": "Python 3 (ipykernel)",
   "language": "python",
   "name": "python3"
  },
  "language_info": {
   "codemirror_mode": {
    "name": "ipython",
    "version": 3
   },
   "file_extension": ".py",
   "mimetype": "text/x-python",
   "name": "python",
   "nbconvert_exporter": "python",
   "pygments_lexer": "ipython3",
   "version": "3.9.7"
  }
 },
 "nbformat": 4,
 "nbformat_minor": 5
}
